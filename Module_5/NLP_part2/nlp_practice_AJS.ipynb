{
 "cells": [
  {
   "cell_type": "markdown",
   "metadata": {},
   "source": [
    "# NLP - Preprocessing and Classifying\n",
    "\n",
    "## Part 2\n",
    "\n",
    "### Situation:\n",
    "\n",
    "Priya works at an international PR firm in the Europe division. Their largest client has offices in Ibiza, Madrid, and Las Palmas. She needs to keep her boss aware of current events and provide a weekly short list of articles concerning political events in Spain. The problem is, her Facebook newsfeed consistently shows her satire articles that people think are real truth! She wonders if she could automate the filtering process by using NLP to save her time..."
   ]
  },
  {
   "cell_type": "markdown",
   "metadata": {},
   "source": [
    "### **Goal**: to internalize the steps, challenges, and methodology of text mining\n",
    "- explore text analysis by hand\n",
    "- apply text mining steps in Jupyter with Python libraries NLTK\n",
    "- classify documents correctly"
   ]
  },
  {
   "cell_type": "markdown",
   "metadata": {},
   "source": [
    "## Refresher on cleaning text\n",
    "![gif](https://www.nyfa.edu/student-resources/wp-content/uploads/2014/10/furious-crazed-typing.gif)\n"
   ]
  },
  {
   "cell_type": "code",
   "execution_count": 22,
   "metadata": {},
   "outputs": [],
   "source": [
    "import nltk\n",
    "import sklearn\n",
    "import urllib\n",
    "import numpy as np\n",
    "import pandas as pd\n",
    "import string, re\n",
    "from nltk.collocations import *\n",
    "from nltk import FreqDist, word_tokenize\n",
    "from nltk.corpus import stopwords\n",
    "from nltk.stem import WordNetLemmatizer\n",
    "from nltk.stem.snowball import SnowballStemmer\n",
    "from sklearn.metrics import accuracy_score, f1_score\n",
    "from sklearn.ensemble import RandomForestClassifier\n",
    "from sklearn.model_selection import train_test_split  \n",
    "from sklearn.feature_extraction.text import TfidfVectorizer, CountVectorizer\n",
    "import matplotlib.pyplot as plt\n",
    "%matplotlib inline\n",
    "np.random.seed(0)\n"
   ]
  },
  {
   "cell_type": "code",
   "execution_count": 23,
   "metadata": {},
   "outputs": [],
   "source": [
    "pd.set_option('display.max_columns', 200)"
   ]
  },
  {
   "cell_type": "markdown",
   "metadata": {},
   "source": [
    "### Document statistics"
   ]
  },
  {
   "cell_type": "markdown",
   "metadata": {},
   "source": [
    "### Document Frequency (DF)\n",
    "\n",
    "$\\begin{align}\n",
    " tf_{i,j} = \\dfrac{n_{i,j}}{\\displaystyle \\sum_k n_{i,j} }\n",
    "\\end{align} $"
   ]
  },
  {
   "cell_type": "markdown",
   "metadata": {},
   "source": [
    "### Inverse Document Frequency (IDF)\n",
    "\n",
    "$\\begin{align}\n",
    "idf(w) = \\log \\dfrac{N}{df_t}\n",
    "\\end{align} $"
   ]
  },
  {
   "cell_type": "markdown",
   "metadata": {},
   "source": [
    "### TF-IDF score\n",
    "\n",
    "$ \\begin{align}\n",
    "w_{i,j} = tf_{i,j} \\times \\log \\dfrac{N}{df_i} \\\\\n",
    "tf_{i,j} = \\text{number of occurences of } i \\text{ in } j \\\\\n",
    "df_i = \\text{number of documents containing }   i \\\\\n",
    "N = \\text{total number of documents}\n",
    "\\end{align} $\n"
   ]
  },
  {
   "cell_type": "markdown",
   "metadata": {},
   "source": [
    "### The from scratch method\n",
    "![homemade](https://media2.giphy.com/media/LBZcXdG0eVBdK/giphy.gif?cid=3640f6095c2d7bb2526a424a4d97117c)\n"
   ]
  },
  {
   "cell_type": "markdown",
   "metadata": {},
   "source": [
    "\n",
    "\n",
    "\n",
    "\n",
    "\n",
    "\n",
    "\n",
    "\n",
    "\n",
    "\n",
    "\n",
    "\n",
    "\n",
    "\n",
    "\n",
    "\n",
    "\n",
    "\n"
   ]
  },
  {
   "cell_type": "code",
   "execution_count": null,
   "metadata": {},
   "outputs": [],
   "source": [
    "\n",
    "\n",
    "\n",
    "\n",
    "\n",
    "\n",
    "\n",
    "\n",
    "\n",
    "\n",
    "\n",
    "\n",
    "\n",
    "\n",
    "\n",
    "\n",
    "\n",
    "\n"
   ]
  },
  {
   "cell_type": "markdown",
   "metadata": {},
   "source": [
    "# Siiiiiiike!"
   ]
  },
  {
   "cell_type": "markdown",
   "metadata": {},
   "source": [
    "## Yes, there is an easier way\n",
    "\n",
    "![big deal](https://media0.giphy.com/media/xUA7aQOxkz00lvCAOQ/giphy.gif?cid=3640f6095c2d7c51772f47644d09cc8b)\n"
   ]
  },
  {
   "cell_type": "markdown",
   "metadata": {},
   "source": [
    "### Next Steps:\n",
    "- Create the tf-idf for the **whole** corpus of 12 articles\n",
    "- What are _on average_ the most important words in the whole corpus?\n",
    "- Add a column named \"Target\" to the dataset\n",
    "- Target will be set to 1 or 0 if the article is \"Politics\" or \"Not Politics\"\n",
    "- Do some exploratory analysis of the dataset\n",
    " - what are the average most important words for the \"Politics\" articles?\n",
    " - What are the average most important words for the \"Not Politics\"?"
   ]
  },
  {
   "cell_type": "code",
   "execution_count": 24,
   "metadata": {},
   "outputs": [],
   "source": [
    "docZZZ = 'https://raw.githubusercontent.com/aapeebles/text_examples/master/Text%20examples%20folder/'"
   ]
  },
  {
   "cell_type": "code",
   "execution_count": 25,
   "metadata": {},
   "outputs": [],
   "source": [
    "alphabet = []\n",
    "for letter in range(65, 91):\n",
    "    alphabet.append(chr(letter))\n",
    "\n",
    "list_of_letters = alphabet[:12]"
   ]
  },
  {
   "cell_type": "code",
   "execution_count": 26,
   "metadata": {},
   "outputs": [],
   "source": [
    "url_list = []"
   ]
  },
  {
   "cell_type": "code",
   "execution_count": 27,
   "metadata": {},
   "outputs": [],
   "source": [
    "for l in list_of_letters:\n",
    "    url = docZZZ + l +'.txt'\n",
    "    url_list.append(url)"
   ]
  },
  {
   "cell_type": "code",
   "execution_count": 28,
   "metadata": {},
   "outputs": [
    {
     "data": {
      "text/plain": [
       "['https://raw.githubusercontent.com/aapeebles/text_examples/master/Text%20examples%20folder/A.txt',\n",
       " 'https://raw.githubusercontent.com/aapeebles/text_examples/master/Text%20examples%20folder/B.txt',\n",
       " 'https://raw.githubusercontent.com/aapeebles/text_examples/master/Text%20examples%20folder/C.txt',\n",
       " 'https://raw.githubusercontent.com/aapeebles/text_examples/master/Text%20examples%20folder/D.txt',\n",
       " 'https://raw.githubusercontent.com/aapeebles/text_examples/master/Text%20examples%20folder/E.txt',\n",
       " 'https://raw.githubusercontent.com/aapeebles/text_examples/master/Text%20examples%20folder/F.txt',\n",
       " 'https://raw.githubusercontent.com/aapeebles/text_examples/master/Text%20examples%20folder/G.txt',\n",
       " 'https://raw.githubusercontent.com/aapeebles/text_examples/master/Text%20examples%20folder/H.txt',\n",
       " 'https://raw.githubusercontent.com/aapeebles/text_examples/master/Text%20examples%20folder/I.txt',\n",
       " 'https://raw.githubusercontent.com/aapeebles/text_examples/master/Text%20examples%20folder/J.txt',\n",
       " 'https://raw.githubusercontent.com/aapeebles/text_examples/master/Text%20examples%20folder/K.txt',\n",
       " 'https://raw.githubusercontent.com/aapeebles/text_examples/master/Text%20examples%20folder/L.txt']"
      ]
     },
     "execution_count": 28,
     "metadata": {},
     "output_type": "execute_result"
    }
   ],
   "source": [
    "url_list"
   ]
  },
  {
   "cell_type": "code",
   "execution_count": 29,
   "metadata": {},
   "outputs": [],
   "source": [
    "stop_words = stopwords.words('english')"
   ]
  },
  {
   "cell_type": "code",
   "execution_count": 30,
   "metadata": {},
   "outputs": [],
   "source": [
    "lemmatizer = WordNetLemmatizer()\n",
    "# stemmer = SnowballStemmer(\"english\")"
   ]
  },
  {
   "cell_type": "code",
   "execution_count": 31,
   "metadata": {},
   "outputs": [],
   "source": [
    "# Example of how to implement a stemmer, but we won't be using stems for the classification\n",
    "\n",
    "# def clean_docs_STEM(_list):\n",
    "#     cleaned = []\n",
    "#     for i in _list:\n",
    "#         metamorph = urllib.request.urlopen(i).read()\n",
    "#         morph = metamorph.decode(\"utf-8\")\n",
    "#         pattern = \"([a-zA-Z]+(?:'[a-z]+)?)\"\n",
    "#         metamorph_tokens_raw = nltk.regexp_tokenize(morph, pattern)\n",
    "#         metamorph_tokens = [i.lower() for i in metamorph_tokens_raw]\n",
    "#         stop_words = stopwords.words('english')\n",
    "#         metamorph_tokens_stopped = [w for w in metamorph_tokens if not w in stop_words]\n",
    "#         meta_stemmed = [stemmer.stem(word) for word in metamorph_tokens_stopped]\n",
    "#         c = \" \".join(str(x) for x in meta_stemmed)\n",
    "#         cleaned.append(c)\n",
    "#     return cleaned"
   ]
  },
  {
   "cell_type": "code",
   "execution_count": 32,
   "metadata": {},
   "outputs": [],
   "source": [
    "def clean_docs_LEMM(_list):\n",
    "    cleaned = []\n",
    "    for i in _list:\n",
    "        metamorph = urllib.request.urlopen(i).read()\n",
    "        morph = metamorph.decode(\"utf-8\")\n",
    "        pattern = \"([a-zA-Z]+(?:'[a-z]+)?)\"\n",
    "        metamorph_tokens_raw = nltk.regexp_tokenize(morph, pattern)\n",
    "        metamorph_tokens = [i.lower() for i in metamorph_tokens_raw]\n",
    "        stop_words = stopwords.words('english')\n",
    "        metamorph_tokens_stopped = [w for w in metamorph_tokens if not w in stop_words]\n",
    "        meta_lemmed = [lemmatizer.lemmatize(word) for word in metamorph_tokens_stopped]\n",
    "        c = \" \".join(str(x) for x in meta_lemmed)\n",
    "        cleaned.append(c)\n",
    "    return cleaned"
   ]
  },
  {
   "cell_type": "code",
   "execution_count": 33,
   "metadata": {},
   "outputs": [],
   "source": [
    "# docs_STEM = clean_docs_STEM(url_list)\n",
    "\n",
    "docs_LEMM = clean_docs_LEMM(url_list)\n",
    "\n",
    "# We will need this for later:\n",
    "df_LEMM_articles = pd.DataFrame(docs_LEMM)"
   ]
  },
  {
   "cell_type": "code",
   "execution_count": 34,
   "metadata": {},
   "outputs": [],
   "source": [
    "# vec = CountVectorizer()\n",
    "tfidf = TfidfVectorizer()"
   ]
  },
  {
   "cell_type": "code",
   "execution_count": 35,
   "metadata": {},
   "outputs": [],
   "source": [
    "X = tfidf.fit_transform(docs_LEMM)\n",
    "df = pd.DataFrame(X.toarray(), columns=tfidf.get_feature_names())"
   ]
  },
  {
   "cell_type": "code",
   "execution_count": 36,
   "metadata": {},
   "outputs": [],
   "source": [
    "# clean_docs_LEMM(url_list)[2]\n",
    "# urllib.request.urlopen(url_list[2]).read()"
   ]
  },
  {
   "cell_type": "code",
   "execution_count": 37,
   "metadata": {},
   "outputs": [],
   "source": [
    "target = ['POLITICS', 'POLITICS', 'Not_politics', 'POLITICS', 'POLITICS', 'Not_politics', \n",
    "    'Not_politics', 'POLITICS', 'Not_politics', 'Not_politics', 'POLITICS', 'Not_politics']"
   ]
  },
  {
   "cell_type": "code",
   "execution_count": 38,
   "metadata": {},
   "outputs": [],
   "source": [
    "df['TARGET'] = target"
   ]
  },
  {
   "cell_type": "code",
   "execution_count": 39,
   "metadata": {},
   "outputs": [],
   "source": [
    "df['TARGET'] = pd.get_dummies(df.TARGET, drop_first=True)"
   ]
  },
  {
   "cell_type": "code",
   "execution_count": 40,
   "metadata": {},
   "outputs": [
    {
     "data": {
      "text/html": [
       "<div>\n",
       "<style scoped>\n",
       "    .dataframe tbody tr th:only-of-type {\n",
       "        vertical-align: middle;\n",
       "    }\n",
       "\n",
       "    .dataframe tbody tr th {\n",
       "        vertical-align: top;\n",
       "    }\n",
       "\n",
       "    .dataframe thead th {\n",
       "        text-align: right;\n",
       "    }\n",
       "</style>\n",
       "<table border=\"1\" class=\"dataframe\">\n",
       "  <thead>\n",
       "    <tr style=\"text-align: right;\">\n",
       "      <th></th>\n",
       "      <th>abate</th>\n",
       "      <th>abiyote</th>\n",
       "      <th>able</th>\n",
       "      <th>abstain</th>\n",
       "      <th>access</th>\n",
       "      <th>accessed</th>\n",
       "      <th>according</th>\n",
       "      <th>account</th>\n",
       "      <th>accurate</th>\n",
       "      <th>achieve</th>\n",
       "      <th>acre</th>\n",
       "      <th>across</th>\n",
       "      <th>action</th>\n",
       "      <th>activist</th>\n",
       "      <th>actually</th>\n",
       "      <th>adam</th>\n",
       "      <th>add</th>\n",
       "      <th>address</th>\n",
       "      <th>adoption</th>\n",
       "      <th>affair</th>\n",
       "      <th>affected</th>\n",
       "      <th>affordable</th>\n",
       "      <th>agency</th>\n",
       "      <th>agent</th>\n",
       "      <th>aggravated</th>\n",
       "      <th>agio</th>\n",
       "      <th>agreed</th>\n",
       "      <th>agreement</th>\n",
       "      <th>aid</th>\n",
       "      <th>aide</th>\n",
       "      <th>aiming</th>\n",
       "      <th>allaying</th>\n",
       "      <th>allow</th>\n",
       "      <th>allowing</th>\n",
       "      <th>allows</th>\n",
       "      <th>almost</th>\n",
       "      <th>already</th>\n",
       "      <th>also</th>\n",
       "      <th>altering</th>\n",
       "      <th>amazon</th>\n",
       "      <th>american</th>\n",
       "      <th>among</th>\n",
       "      <th>analysis</th>\n",
       "      <th>andrew</th>\n",
       "      <th>announce</th>\n",
       "      <th>announced</th>\n",
       "      <th>annual</th>\n",
       "      <th>another</th>\n",
       "      <th>answer</th>\n",
       "      <th>anti</th>\n",
       "      <th>appear</th>\n",
       "      <th>april</th>\n",
       "      <th>area</th>\n",
       "      <th>arena</th>\n",
       "      <th>arkansas</th>\n",
       "      <th>around</th>\n",
       "      <th>arrested</th>\n",
       "      <th>asks</th>\n",
       "      <th>athens</th>\n",
       "      <th>athletics</th>\n",
       "      <th>attachment</th>\n",
       "      <th>attracted</th>\n",
       "      <th>august</th>\n",
       "      <th>australia</th>\n",
       "      <th>automatic</th>\n",
       "      <th>awaited</th>\n",
       "      <th>back</th>\n",
       "      <th>backed</th>\n",
       "      <th>bail</th>\n",
       "      <th>bank</th>\n",
       "      <th>barbara</th>\n",
       "      <th>base</th>\n",
       "      <th>based</th>\n",
       "      <th>bbc</th>\n",
       "      <th>beat</th>\n",
       "      <th>begun</th>\n",
       "      <th>bekele</th>\n",
       "      <th>belief</th>\n",
       "      <th>believed</th>\n",
       "      <th>bernard</th>\n",
       "      <th>bershawn</th>\n",
       "      <th>best</th>\n",
       "      <th>better</th>\n",
       "      <th>big</th>\n",
       "      <th>biggest</th>\n",
       "      <th>birmingham</th>\n",
       "      <th>bn</th>\n",
       "      <th>bnp</th>\n",
       "      <th>body</th>\n",
       "      <th>boost</th>\n",
       "      <th>boston</th>\n",
       "      <th>bowles</th>\n",
       "      <th>brannen</th>\n",
       "      <th>breach</th>\n",
       "      <th>break</th>\n",
       "      <th>brighton</th>\n",
       "      <th>bringing</th>\n",
       "      <th>britain</th>\n",
       "      <th>british</th>\n",
       "      <th>briton</th>\n",
       "      <th>...</th>\n",
       "      <th>take</th>\n",
       "      <th>taking</th>\n",
       "      <th>talent</th>\n",
       "      <th>talk</th>\n",
       "      <th>target</th>\n",
       "      <th>tax</th>\n",
       "      <th>taxpayer</th>\n",
       "      <th>team</th>\n",
       "      <th>technology</th>\n",
       "      <th>teenager</th>\n",
       "      <th>telephony</th>\n",
       "      <th>tell</th>\n",
       "      <th>ten</th>\n",
       "      <th>terminal</th>\n",
       "      <th>text</th>\n",
       "      <th>they</th>\n",
       "      <th>think</th>\n",
       "      <th>third</th>\n",
       "      <th>thought</th>\n",
       "      <th>three</th>\n",
       "      <th>throne</th>\n",
       "      <th>thursday</th>\n",
       "      <th>tight</th>\n",
       "      <th>time</th>\n",
       "      <th>tipped</th>\n",
       "      <th>title</th>\n",
       "      <th>top</th>\n",
       "      <th>train</th>\n",
       "      <th>training</th>\n",
       "      <th>travel</th>\n",
       "      <th>travelodge</th>\n",
       "      <th>true</th>\n",
       "      <th>tsunami</th>\n",
       "      <th>tuesday</th>\n",
       "      <th>tv</th>\n",
       "      <th>twelfth</th>\n",
       "      <th>twice</th>\n",
       "      <th>two</th>\n",
       "      <th>tyndall</th>\n",
       "      <th>uk</th>\n",
       "      <th>ultimate</th>\n",
       "      <th>unable</th>\n",
       "      <th>underestimating</th>\n",
       "      <th>union</th>\n",
       "      <th>unrelated</th>\n",
       "      <th>unsolicited</th>\n",
       "      <th>unveiled</th>\n",
       "      <th>use</th>\n",
       "      <th>used</th>\n",
       "      <th>user</th>\n",
       "      <th>using</th>\n",
       "      <th>variously</th>\n",
       "      <th>vaughan</th>\n",
       "      <th>ve</th>\n",
       "      <th>venue</th>\n",
       "      <th>via</th>\n",
       "      <th>victory</th>\n",
       "      <th>video</th>\n",
       "      <th>view</th>\n",
       "      <th>virgin</th>\n",
       "      <th>virus</th>\n",
       "      <th>vocal</th>\n",
       "      <th>voice</th>\n",
       "      <th>voluntarily</th>\n",
       "      <th>voting</th>\n",
       "      <th>wale</th>\n",
       "      <th>want</th>\n",
       "      <th>warn</th>\n",
       "      <th>warned</th>\n",
       "      <th>warning</th>\n",
       "      <th>watch</th>\n",
       "      <th>way</th>\n",
       "      <th>we</th>\n",
       "      <th>wealthy</th>\n",
       "      <th>website</th>\n",
       "      <th>week</th>\n",
       "      <th>welcome</th>\n",
       "      <th>welcomed</th>\n",
       "      <th>well</th>\n",
       "      <th>went</th>\n",
       "      <th>west</th>\n",
       "      <th>whipped</th>\n",
       "      <th>wi</th>\n",
       "      <th>william</th>\n",
       "      <th>win</th>\n",
       "      <th>winning</th>\n",
       "      <th>wireless</th>\n",
       "      <th>without</th>\n",
       "      <th>women</th>\n",
       "      <th>wondimu</th>\n",
       "      <th>wood</th>\n",
       "      <th>word</th>\n",
       "      <th>world</th>\n",
       "      <th>would</th>\n",
       "      <th>xbox</th>\n",
       "      <th>year</th>\n",
       "      <th>yepp</th>\n",
       "      <th>yh</th>\n",
       "      <th>yorkshire</th>\n",
       "      <th>TARGET</th>\n",
       "    </tr>\n",
       "  </thead>\n",
       "  <tbody>\n",
       "    <tr>\n",
       "      <th>0</th>\n",
       "      <td>0.0</td>\n",
       "      <td>0.0</td>\n",
       "      <td>0.0</td>\n",
       "      <td>0.05826</td>\n",
       "      <td>0.0</td>\n",
       "      <td>0.000000</td>\n",
       "      <td>0.000000</td>\n",
       "      <td>0.000000</td>\n",
       "      <td>0.0</td>\n",
       "      <td>0.05826</td>\n",
       "      <td>0.0</td>\n",
       "      <td>0.0</td>\n",
       "      <td>0.05826</td>\n",
       "      <td>0.000000</td>\n",
       "      <td>0.0</td>\n",
       "      <td>0.000000</td>\n",
       "      <td>0.0</td>\n",
       "      <td>0.000000</td>\n",
       "      <td>0.05826</td>\n",
       "      <td>0.05826</td>\n",
       "      <td>0.000000</td>\n",
       "      <td>0.000000</td>\n",
       "      <td>0.000000</td>\n",
       "      <td>0.000000</td>\n",
       "      <td>0.000000</td>\n",
       "      <td>0.0</td>\n",
       "      <td>0.000000</td>\n",
       "      <td>0.000000</td>\n",
       "      <td>0.0</td>\n",
       "      <td>0.0</td>\n",
       "      <td>0.0</td>\n",
       "      <td>0.0</td>\n",
       "      <td>0.0</td>\n",
       "      <td>0.0</td>\n",
       "      <td>0.0</td>\n",
       "      <td>0.0</td>\n",
       "      <td>0.0</td>\n",
       "      <td>0.000000</td>\n",
       "      <td>0.000000</td>\n",
       "      <td>0.05826</td>\n",
       "      <td>0.0</td>\n",
       "      <td>0.000000</td>\n",
       "      <td>0.000000</td>\n",
       "      <td>0.0</td>\n",
       "      <td>0.000000</td>\n",
       "      <td>0.000000</td>\n",
       "      <td>0.0</td>\n",
       "      <td>0.000000</td>\n",
       "      <td>0.000000</td>\n",
       "      <td>0.0</td>\n",
       "      <td>0.000000</td>\n",
       "      <td>0.0</td>\n",
       "      <td>0.000000</td>\n",
       "      <td>0.0</td>\n",
       "      <td>0.0</td>\n",
       "      <td>0.0</td>\n",
       "      <td>0.000000</td>\n",
       "      <td>0.000000</td>\n",
       "      <td>0.0</td>\n",
       "      <td>0.0</td>\n",
       "      <td>0.000000</td>\n",
       "      <td>0.0</td>\n",
       "      <td>0.0</td>\n",
       "      <td>0.0</td>\n",
       "      <td>0.0</td>\n",
       "      <td>0.000000</td>\n",
       "      <td>0.050034</td>\n",
       "      <td>0.05826</td>\n",
       "      <td>0.000000</td>\n",
       "      <td>0.000000</td>\n",
       "      <td>0.0</td>\n",
       "      <td>0.0</td>\n",
       "      <td>0.100068</td>\n",
       "      <td>0.000000</td>\n",
       "      <td>0.000000</td>\n",
       "      <td>0.000000</td>\n",
       "      <td>0.0</td>\n",
       "      <td>0.0</td>\n",
       "      <td>0.000000</td>\n",
       "      <td>0.0</td>\n",
       "      <td>0.0</td>\n",
       "      <td>0.0</td>\n",
       "      <td>0.0</td>\n",
       "      <td>0.0</td>\n",
       "      <td>0.000000</td>\n",
       "      <td>0.0</td>\n",
       "      <td>0.000000</td>\n",
       "      <td>0.000000</td>\n",
       "      <td>0.0</td>\n",
       "      <td>0.0</td>\n",
       "      <td>0.0</td>\n",
       "      <td>0.0</td>\n",
       "      <td>0.0</td>\n",
       "      <td>0.000000</td>\n",
       "      <td>0.0</td>\n",
       "      <td>0.000000</td>\n",
       "      <td>0.05826</td>\n",
       "      <td>0.00000</td>\n",
       "      <td>0.000000</td>\n",
       "      <td>0.000000</td>\n",
       "      <td>...</td>\n",
       "      <td>0.000000</td>\n",
       "      <td>0.0</td>\n",
       "      <td>0.0</td>\n",
       "      <td>0.000000</td>\n",
       "      <td>0.0</td>\n",
       "      <td>0.0</td>\n",
       "      <td>0.0</td>\n",
       "      <td>0.0</td>\n",
       "      <td>0.000000</td>\n",
       "      <td>0.0</td>\n",
       "      <td>0.0</td>\n",
       "      <td>0.000000</td>\n",
       "      <td>0.000000</td>\n",
       "      <td>0.0</td>\n",
       "      <td>0.0</td>\n",
       "      <td>0.0</td>\n",
       "      <td>0.000000</td>\n",
       "      <td>0.0</td>\n",
       "      <td>0.000000</td>\n",
       "      <td>0.0</td>\n",
       "      <td>0.0</td>\n",
       "      <td>0.000000</td>\n",
       "      <td>0.0</td>\n",
       "      <td>0.0</td>\n",
       "      <td>0.000000</td>\n",
       "      <td>0.0</td>\n",
       "      <td>0.000000</td>\n",
       "      <td>0.0</td>\n",
       "      <td>0.0</td>\n",
       "      <td>0.000000</td>\n",
       "      <td>0.0</td>\n",
       "      <td>0.0</td>\n",
       "      <td>0.000000</td>\n",
       "      <td>0.000000</td>\n",
       "      <td>0.000000</td>\n",
       "      <td>0.000000</td>\n",
       "      <td>0.05826</td>\n",
       "      <td>0.065690</td>\n",
       "      <td>0.000000</td>\n",
       "      <td>0.000000</td>\n",
       "      <td>0.000000</td>\n",
       "      <td>0.0</td>\n",
       "      <td>0.0</td>\n",
       "      <td>0.044198</td>\n",
       "      <td>0.000000</td>\n",
       "      <td>0.000000</td>\n",
       "      <td>0.0</td>\n",
       "      <td>0.050034</td>\n",
       "      <td>0.000000</td>\n",
       "      <td>0.000000</td>\n",
       "      <td>0.0</td>\n",
       "      <td>0.000000</td>\n",
       "      <td>0.000000</td>\n",
       "      <td>0.000000</td>\n",
       "      <td>0.0</td>\n",
       "      <td>0.000000</td>\n",
       "      <td>0.0</td>\n",
       "      <td>0.000000</td>\n",
       "      <td>0.0</td>\n",
       "      <td>0.0</td>\n",
       "      <td>0.000000</td>\n",
       "      <td>0.05826</td>\n",
       "      <td>0.0</td>\n",
       "      <td>0.0</td>\n",
       "      <td>0.05826</td>\n",
       "      <td>0.0</td>\n",
       "      <td>0.0</td>\n",
       "      <td>0.000000</td>\n",
       "      <td>0.000000</td>\n",
       "      <td>0.000000</td>\n",
       "      <td>0.0</td>\n",
       "      <td>0.0</td>\n",
       "      <td>0.000000</td>\n",
       "      <td>0.000000</td>\n",
       "      <td>0.000000</td>\n",
       "      <td>0.00000</td>\n",
       "      <td>0.0</td>\n",
       "      <td>0.05826</td>\n",
       "      <td>0.0</td>\n",
       "      <td>0.0</td>\n",
       "      <td>0.000000</td>\n",
       "      <td>0.0</td>\n",
       "      <td>0.0</td>\n",
       "      <td>0.0</td>\n",
       "      <td>0.0</td>\n",
       "      <td>0.0</td>\n",
       "      <td>0.0</td>\n",
       "      <td>0.044198</td>\n",
       "      <td>0.0</td>\n",
       "      <td>0.0</td>\n",
       "      <td>0.0</td>\n",
       "      <td>0.05826</td>\n",
       "      <td>0.000000</td>\n",
       "      <td>0.098535</td>\n",
       "      <td>0.000000</td>\n",
       "      <td>0.000000</td>\n",
       "      <td>0.000000</td>\n",
       "      <td>0.000000</td>\n",
       "      <td>0.000000</td>\n",
       "      <td>1</td>\n",
       "    </tr>\n",
       "    <tr>\n",
       "      <th>1</th>\n",
       "      <td>0.0</td>\n",
       "      <td>0.0</td>\n",
       "      <td>0.0</td>\n",
       "      <td>0.00000</td>\n",
       "      <td>0.0</td>\n",
       "      <td>0.000000</td>\n",
       "      <td>0.000000</td>\n",
       "      <td>0.000000</td>\n",
       "      <td>0.0</td>\n",
       "      <td>0.00000</td>\n",
       "      <td>0.0</td>\n",
       "      <td>0.0</td>\n",
       "      <td>0.00000</td>\n",
       "      <td>0.000000</td>\n",
       "      <td>0.0</td>\n",
       "      <td>0.000000</td>\n",
       "      <td>0.0</td>\n",
       "      <td>0.000000</td>\n",
       "      <td>0.00000</td>\n",
       "      <td>0.00000</td>\n",
       "      <td>0.087406</td>\n",
       "      <td>0.000000</td>\n",
       "      <td>0.000000</td>\n",
       "      <td>0.000000</td>\n",
       "      <td>0.000000</td>\n",
       "      <td>0.0</td>\n",
       "      <td>0.087406</td>\n",
       "      <td>0.087406</td>\n",
       "      <td>0.0</td>\n",
       "      <td>0.0</td>\n",
       "      <td>0.0</td>\n",
       "      <td>0.0</td>\n",
       "      <td>0.0</td>\n",
       "      <td>0.0</td>\n",
       "      <td>0.0</td>\n",
       "      <td>0.0</td>\n",
       "      <td>0.0</td>\n",
       "      <td>0.098554</td>\n",
       "      <td>0.000000</td>\n",
       "      <td>0.00000</td>\n",
       "      <td>0.0</td>\n",
       "      <td>0.000000</td>\n",
       "      <td>0.087406</td>\n",
       "      <td>0.0</td>\n",
       "      <td>0.087406</td>\n",
       "      <td>0.075065</td>\n",
       "      <td>0.0</td>\n",
       "      <td>0.000000</td>\n",
       "      <td>0.000000</td>\n",
       "      <td>0.0</td>\n",
       "      <td>0.000000</td>\n",
       "      <td>0.0</td>\n",
       "      <td>0.000000</td>\n",
       "      <td>0.0</td>\n",
       "      <td>0.0</td>\n",
       "      <td>0.0</td>\n",
       "      <td>0.000000</td>\n",
       "      <td>0.000000</td>\n",
       "      <td>0.0</td>\n",
       "      <td>0.0</td>\n",
       "      <td>0.000000</td>\n",
       "      <td>0.0</td>\n",
       "      <td>0.0</td>\n",
       "      <td>0.0</td>\n",
       "      <td>0.0</td>\n",
       "      <td>0.000000</td>\n",
       "      <td>0.000000</td>\n",
       "      <td>0.00000</td>\n",
       "      <td>0.000000</td>\n",
       "      <td>0.087406</td>\n",
       "      <td>0.0</td>\n",
       "      <td>0.0</td>\n",
       "      <td>0.000000</td>\n",
       "      <td>0.000000</td>\n",
       "      <td>0.000000</td>\n",
       "      <td>0.087406</td>\n",
       "      <td>0.0</td>\n",
       "      <td>0.0</td>\n",
       "      <td>0.087406</td>\n",
       "      <td>0.0</td>\n",
       "      <td>0.0</td>\n",
       "      <td>0.0</td>\n",
       "      <td>0.0</td>\n",
       "      <td>0.0</td>\n",
       "      <td>0.087406</td>\n",
       "      <td>0.0</td>\n",
       "      <td>0.087406</td>\n",
       "      <td>0.000000</td>\n",
       "      <td>0.0</td>\n",
       "      <td>0.0</td>\n",
       "      <td>0.0</td>\n",
       "      <td>0.0</td>\n",
       "      <td>0.0</td>\n",
       "      <td>0.000000</td>\n",
       "      <td>0.0</td>\n",
       "      <td>0.000000</td>\n",
       "      <td>0.00000</td>\n",
       "      <td>0.06631</td>\n",
       "      <td>0.000000</td>\n",
       "      <td>0.087406</td>\n",
       "      <td>...</td>\n",
       "      <td>0.000000</td>\n",
       "      <td>0.0</td>\n",
       "      <td>0.0</td>\n",
       "      <td>0.087406</td>\n",
       "      <td>0.0</td>\n",
       "      <td>0.0</td>\n",
       "      <td>0.0</td>\n",
       "      <td>0.0</td>\n",
       "      <td>0.000000</td>\n",
       "      <td>0.0</td>\n",
       "      <td>0.0</td>\n",
       "      <td>0.000000</td>\n",
       "      <td>0.000000</td>\n",
       "      <td>0.0</td>\n",
       "      <td>0.0</td>\n",
       "      <td>0.0</td>\n",
       "      <td>0.000000</td>\n",
       "      <td>0.0</td>\n",
       "      <td>0.087406</td>\n",
       "      <td>0.0</td>\n",
       "      <td>0.0</td>\n",
       "      <td>0.087406</td>\n",
       "      <td>0.0</td>\n",
       "      <td>0.0</td>\n",
       "      <td>0.000000</td>\n",
       "      <td>0.0</td>\n",
       "      <td>0.000000</td>\n",
       "      <td>0.0</td>\n",
       "      <td>0.0</td>\n",
       "      <td>0.000000</td>\n",
       "      <td>0.0</td>\n",
       "      <td>0.0</td>\n",
       "      <td>0.174812</td>\n",
       "      <td>0.000000</td>\n",
       "      <td>0.000000</td>\n",
       "      <td>0.000000</td>\n",
       "      <td>0.00000</td>\n",
       "      <td>0.000000</td>\n",
       "      <td>0.000000</td>\n",
       "      <td>0.000000</td>\n",
       "      <td>0.000000</td>\n",
       "      <td>0.0</td>\n",
       "      <td>0.0</td>\n",
       "      <td>0.000000</td>\n",
       "      <td>0.000000</td>\n",
       "      <td>0.000000</td>\n",
       "      <td>0.0</td>\n",
       "      <td>0.000000</td>\n",
       "      <td>0.000000</td>\n",
       "      <td>0.000000</td>\n",
       "      <td>0.0</td>\n",
       "      <td>0.000000</td>\n",
       "      <td>0.000000</td>\n",
       "      <td>0.000000</td>\n",
       "      <td>0.0</td>\n",
       "      <td>0.000000</td>\n",
       "      <td>0.0</td>\n",
       "      <td>0.000000</td>\n",
       "      <td>0.0</td>\n",
       "      <td>0.0</td>\n",
       "      <td>0.000000</td>\n",
       "      <td>0.00000</td>\n",
       "      <td>0.0</td>\n",
       "      <td>0.0</td>\n",
       "      <td>0.00000</td>\n",
       "      <td>0.0</td>\n",
       "      <td>0.0</td>\n",
       "      <td>0.000000</td>\n",
       "      <td>0.000000</td>\n",
       "      <td>0.000000</td>\n",
       "      <td>0.0</td>\n",
       "      <td>0.0</td>\n",
       "      <td>0.000000</td>\n",
       "      <td>0.087406</td>\n",
       "      <td>0.000000</td>\n",
       "      <td>0.06631</td>\n",
       "      <td>0.0</td>\n",
       "      <td>0.00000</td>\n",
       "      <td>0.0</td>\n",
       "      <td>0.0</td>\n",
       "      <td>0.000000</td>\n",
       "      <td>0.0</td>\n",
       "      <td>0.0</td>\n",
       "      <td>0.0</td>\n",
       "      <td>0.0</td>\n",
       "      <td>0.0</td>\n",
       "      <td>0.0</td>\n",
       "      <td>0.000000</td>\n",
       "      <td>0.0</td>\n",
       "      <td>0.0</td>\n",
       "      <td>0.0</td>\n",
       "      <td>0.00000</td>\n",
       "      <td>0.049277</td>\n",
       "      <td>0.049277</td>\n",
       "      <td>0.000000</td>\n",
       "      <td>0.035520</td>\n",
       "      <td>0.000000</td>\n",
       "      <td>0.000000</td>\n",
       "      <td>0.000000</td>\n",
       "      <td>1</td>\n",
       "    </tr>\n",
       "    <tr>\n",
       "      <th>2</th>\n",
       "      <td>0.0</td>\n",
       "      <td>0.0</td>\n",
       "      <td>0.0</td>\n",
       "      <td>0.00000</td>\n",
       "      <td>0.0</td>\n",
       "      <td>0.000000</td>\n",
       "      <td>0.052772</td>\n",
       "      <td>0.000000</td>\n",
       "      <td>0.0</td>\n",
       "      <td>0.00000</td>\n",
       "      <td>0.0</td>\n",
       "      <td>0.0</td>\n",
       "      <td>0.00000</td>\n",
       "      <td>0.000000</td>\n",
       "      <td>0.0</td>\n",
       "      <td>0.061447</td>\n",
       "      <td>0.0</td>\n",
       "      <td>0.000000</td>\n",
       "      <td>0.00000</td>\n",
       "      <td>0.00000</td>\n",
       "      <td>0.000000</td>\n",
       "      <td>0.061447</td>\n",
       "      <td>0.000000</td>\n",
       "      <td>0.000000</td>\n",
       "      <td>0.000000</td>\n",
       "      <td>0.0</td>\n",
       "      <td>0.000000</td>\n",
       "      <td>0.000000</td>\n",
       "      <td>0.0</td>\n",
       "      <td>0.0</td>\n",
       "      <td>0.0</td>\n",
       "      <td>0.0</td>\n",
       "      <td>0.0</td>\n",
       "      <td>0.0</td>\n",
       "      <td>0.0</td>\n",
       "      <td>0.0</td>\n",
       "      <td>0.0</td>\n",
       "      <td>0.000000</td>\n",
       "      <td>0.061447</td>\n",
       "      <td>0.00000</td>\n",
       "      <td>0.0</td>\n",
       "      <td>0.061447</td>\n",
       "      <td>0.000000</td>\n",
       "      <td>0.0</td>\n",
       "      <td>0.000000</td>\n",
       "      <td>0.000000</td>\n",
       "      <td>0.0</td>\n",
       "      <td>0.000000</td>\n",
       "      <td>0.000000</td>\n",
       "      <td>0.0</td>\n",
       "      <td>0.000000</td>\n",
       "      <td>0.0</td>\n",
       "      <td>0.000000</td>\n",
       "      <td>0.0</td>\n",
       "      <td>0.0</td>\n",
       "      <td>0.0</td>\n",
       "      <td>0.000000</td>\n",
       "      <td>0.052772</td>\n",
       "      <td>0.0</td>\n",
       "      <td>0.0</td>\n",
       "      <td>0.000000</td>\n",
       "      <td>0.0</td>\n",
       "      <td>0.0</td>\n",
       "      <td>0.0</td>\n",
       "      <td>0.0</td>\n",
       "      <td>0.061447</td>\n",
       "      <td>0.052772</td>\n",
       "      <td>0.00000</td>\n",
       "      <td>0.000000</td>\n",
       "      <td>0.000000</td>\n",
       "      <td>0.0</td>\n",
       "      <td>0.0</td>\n",
       "      <td>0.000000</td>\n",
       "      <td>0.000000</td>\n",
       "      <td>0.052772</td>\n",
       "      <td>0.000000</td>\n",
       "      <td>0.0</td>\n",
       "      <td>0.0</td>\n",
       "      <td>0.000000</td>\n",
       "      <td>0.0</td>\n",
       "      <td>0.0</td>\n",
       "      <td>0.0</td>\n",
       "      <td>0.0</td>\n",
       "      <td>0.0</td>\n",
       "      <td>0.000000</td>\n",
       "      <td>0.0</td>\n",
       "      <td>0.000000</td>\n",
       "      <td>0.000000</td>\n",
       "      <td>0.0</td>\n",
       "      <td>0.0</td>\n",
       "      <td>0.0</td>\n",
       "      <td>0.0</td>\n",
       "      <td>0.0</td>\n",
       "      <td>0.000000</td>\n",
       "      <td>0.0</td>\n",
       "      <td>0.000000</td>\n",
       "      <td>0.00000</td>\n",
       "      <td>0.00000</td>\n",
       "      <td>0.000000</td>\n",
       "      <td>0.000000</td>\n",
       "      <td>...</td>\n",
       "      <td>0.046616</td>\n",
       "      <td>0.0</td>\n",
       "      <td>0.0</td>\n",
       "      <td>0.000000</td>\n",
       "      <td>0.0</td>\n",
       "      <td>0.0</td>\n",
       "      <td>0.0</td>\n",
       "      <td>0.0</td>\n",
       "      <td>0.122894</td>\n",
       "      <td>0.0</td>\n",
       "      <td>0.0</td>\n",
       "      <td>0.000000</td>\n",
       "      <td>0.061447</td>\n",
       "      <td>0.0</td>\n",
       "      <td>0.0</td>\n",
       "      <td>0.0</td>\n",
       "      <td>0.052772</td>\n",
       "      <td>0.0</td>\n",
       "      <td>0.000000</td>\n",
       "      <td>0.0</td>\n",
       "      <td>0.0</td>\n",
       "      <td>0.000000</td>\n",
       "      <td>0.0</td>\n",
       "      <td>0.0</td>\n",
       "      <td>0.061447</td>\n",
       "      <td>0.0</td>\n",
       "      <td>0.122894</td>\n",
       "      <td>0.0</td>\n",
       "      <td>0.0</td>\n",
       "      <td>0.061447</td>\n",
       "      <td>0.0</td>\n",
       "      <td>0.0</td>\n",
       "      <td>0.000000</td>\n",
       "      <td>0.000000</td>\n",
       "      <td>0.061447</td>\n",
       "      <td>0.000000</td>\n",
       "      <td>0.00000</td>\n",
       "      <td>0.000000</td>\n",
       "      <td>0.000000</td>\n",
       "      <td>0.046616</td>\n",
       "      <td>0.061447</td>\n",
       "      <td>0.0</td>\n",
       "      <td>0.0</td>\n",
       "      <td>0.000000</td>\n",
       "      <td>0.000000</td>\n",
       "      <td>0.000000</td>\n",
       "      <td>0.0</td>\n",
       "      <td>0.000000</td>\n",
       "      <td>0.000000</td>\n",
       "      <td>0.000000</td>\n",
       "      <td>0.0</td>\n",
       "      <td>0.000000</td>\n",
       "      <td>0.122894</td>\n",
       "      <td>0.061447</td>\n",
       "      <td>0.0</td>\n",
       "      <td>0.000000</td>\n",
       "      <td>0.0</td>\n",
       "      <td>0.052772</td>\n",
       "      <td>0.0</td>\n",
       "      <td>0.0</td>\n",
       "      <td>0.000000</td>\n",
       "      <td>0.00000</td>\n",
       "      <td>0.0</td>\n",
       "      <td>0.0</td>\n",
       "      <td>0.00000</td>\n",
       "      <td>0.0</td>\n",
       "      <td>0.0</td>\n",
       "      <td>0.000000</td>\n",
       "      <td>0.000000</td>\n",
       "      <td>0.000000</td>\n",
       "      <td>0.0</td>\n",
       "      <td>0.0</td>\n",
       "      <td>0.061447</td>\n",
       "      <td>0.000000</td>\n",
       "      <td>0.000000</td>\n",
       "      <td>0.00000</td>\n",
       "      <td>0.0</td>\n",
       "      <td>0.00000</td>\n",
       "      <td>0.0</td>\n",
       "      <td>0.0</td>\n",
       "      <td>0.000000</td>\n",
       "      <td>0.0</td>\n",
       "      <td>0.0</td>\n",
       "      <td>0.0</td>\n",
       "      <td>0.0</td>\n",
       "      <td>0.0</td>\n",
       "      <td>0.0</td>\n",
       "      <td>0.046616</td>\n",
       "      <td>0.0</td>\n",
       "      <td>0.0</td>\n",
       "      <td>0.0</td>\n",
       "      <td>0.00000</td>\n",
       "      <td>0.000000</td>\n",
       "      <td>0.069284</td>\n",
       "      <td>0.061447</td>\n",
       "      <td>0.099885</td>\n",
       "      <td>0.061447</td>\n",
       "      <td>0.061447</td>\n",
       "      <td>0.000000</td>\n",
       "      <td>0</td>\n",
       "    </tr>\n",
       "    <tr>\n",
       "      <th>3</th>\n",
       "      <td>0.0</td>\n",
       "      <td>0.0</td>\n",
       "      <td>0.0</td>\n",
       "      <td>0.00000</td>\n",
       "      <td>0.0</td>\n",
       "      <td>0.000000</td>\n",
       "      <td>0.000000</td>\n",
       "      <td>0.000000</td>\n",
       "      <td>0.0</td>\n",
       "      <td>0.00000</td>\n",
       "      <td>0.0</td>\n",
       "      <td>0.0</td>\n",
       "      <td>0.00000</td>\n",
       "      <td>0.058306</td>\n",
       "      <td>0.0</td>\n",
       "      <td>0.000000</td>\n",
       "      <td>0.0</td>\n",
       "      <td>0.000000</td>\n",
       "      <td>0.00000</td>\n",
       "      <td>0.00000</td>\n",
       "      <td>0.000000</td>\n",
       "      <td>0.000000</td>\n",
       "      <td>0.000000</td>\n",
       "      <td>0.058306</td>\n",
       "      <td>0.058306</td>\n",
       "      <td>0.0</td>\n",
       "      <td>0.000000</td>\n",
       "      <td>0.000000</td>\n",
       "      <td>0.0</td>\n",
       "      <td>0.0</td>\n",
       "      <td>0.0</td>\n",
       "      <td>0.0</td>\n",
       "      <td>0.0</td>\n",
       "      <td>0.0</td>\n",
       "      <td>0.0</td>\n",
       "      <td>0.0</td>\n",
       "      <td>0.0</td>\n",
       "      <td>0.000000</td>\n",
       "      <td>0.000000</td>\n",
       "      <td>0.00000</td>\n",
       "      <td>0.0</td>\n",
       "      <td>0.000000</td>\n",
       "      <td>0.000000</td>\n",
       "      <td>0.0</td>\n",
       "      <td>0.000000</td>\n",
       "      <td>0.000000</td>\n",
       "      <td>0.0</td>\n",
       "      <td>0.058306</td>\n",
       "      <td>0.000000</td>\n",
       "      <td>0.0</td>\n",
       "      <td>0.000000</td>\n",
       "      <td>0.0</td>\n",
       "      <td>0.058306</td>\n",
       "      <td>0.0</td>\n",
       "      <td>0.0</td>\n",
       "      <td>0.0</td>\n",
       "      <td>0.524755</td>\n",
       "      <td>0.000000</td>\n",
       "      <td>0.0</td>\n",
       "      <td>0.0</td>\n",
       "      <td>0.000000</td>\n",
       "      <td>0.0</td>\n",
       "      <td>0.0</td>\n",
       "      <td>0.0</td>\n",
       "      <td>0.0</td>\n",
       "      <td>0.000000</td>\n",
       "      <td>0.000000</td>\n",
       "      <td>0.00000</td>\n",
       "      <td>0.116612</td>\n",
       "      <td>0.000000</td>\n",
       "      <td>0.0</td>\n",
       "      <td>0.0</td>\n",
       "      <td>0.000000</td>\n",
       "      <td>0.100148</td>\n",
       "      <td>0.000000</td>\n",
       "      <td>0.000000</td>\n",
       "      <td>0.0</td>\n",
       "      <td>0.0</td>\n",
       "      <td>0.000000</td>\n",
       "      <td>0.0</td>\n",
       "      <td>0.0</td>\n",
       "      <td>0.0</td>\n",
       "      <td>0.0</td>\n",
       "      <td>0.0</td>\n",
       "      <td>0.000000</td>\n",
       "      <td>0.0</td>\n",
       "      <td>0.000000</td>\n",
       "      <td>0.233224</td>\n",
       "      <td>0.0</td>\n",
       "      <td>0.0</td>\n",
       "      <td>0.0</td>\n",
       "      <td>0.0</td>\n",
       "      <td>0.0</td>\n",
       "      <td>0.000000</td>\n",
       "      <td>0.0</td>\n",
       "      <td>0.058306</td>\n",
       "      <td>0.00000</td>\n",
       "      <td>0.00000</td>\n",
       "      <td>0.050074</td>\n",
       "      <td>0.000000</td>\n",
       "      <td>...</td>\n",
       "      <td>0.000000</td>\n",
       "      <td>0.0</td>\n",
       "      <td>0.0</td>\n",
       "      <td>0.000000</td>\n",
       "      <td>0.0</td>\n",
       "      <td>0.0</td>\n",
       "      <td>0.0</td>\n",
       "      <td>0.0</td>\n",
       "      <td>0.000000</td>\n",
       "      <td>0.0</td>\n",
       "      <td>0.0</td>\n",
       "      <td>0.000000</td>\n",
       "      <td>0.000000</td>\n",
       "      <td>0.0</td>\n",
       "      <td>0.0</td>\n",
       "      <td>0.0</td>\n",
       "      <td>0.000000</td>\n",
       "      <td>0.0</td>\n",
       "      <td>0.000000</td>\n",
       "      <td>0.0</td>\n",
       "      <td>0.0</td>\n",
       "      <td>0.000000</td>\n",
       "      <td>0.0</td>\n",
       "      <td>0.0</td>\n",
       "      <td>0.000000</td>\n",
       "      <td>0.0</td>\n",
       "      <td>0.000000</td>\n",
       "      <td>0.0</td>\n",
       "      <td>0.0</td>\n",
       "      <td>0.000000</td>\n",
       "      <td>0.0</td>\n",
       "      <td>0.0</td>\n",
       "      <td>0.000000</td>\n",
       "      <td>0.058306</td>\n",
       "      <td>0.000000</td>\n",
       "      <td>0.058306</td>\n",
       "      <td>0.00000</td>\n",
       "      <td>0.032871</td>\n",
       "      <td>0.116612</td>\n",
       "      <td>0.000000</td>\n",
       "      <td>0.000000</td>\n",
       "      <td>0.0</td>\n",
       "      <td>0.0</td>\n",
       "      <td>0.000000</td>\n",
       "      <td>0.000000</td>\n",
       "      <td>0.000000</td>\n",
       "      <td>0.0</td>\n",
       "      <td>0.000000</td>\n",
       "      <td>0.000000</td>\n",
       "      <td>0.000000</td>\n",
       "      <td>0.0</td>\n",
       "      <td>0.058306</td>\n",
       "      <td>0.000000</td>\n",
       "      <td>0.000000</td>\n",
       "      <td>0.0</td>\n",
       "      <td>0.000000</td>\n",
       "      <td>0.0</td>\n",
       "      <td>0.000000</td>\n",
       "      <td>0.0</td>\n",
       "      <td>0.0</td>\n",
       "      <td>0.000000</td>\n",
       "      <td>0.00000</td>\n",
       "      <td>0.0</td>\n",
       "      <td>0.0</td>\n",
       "      <td>0.00000</td>\n",
       "      <td>0.0</td>\n",
       "      <td>0.0</td>\n",
       "      <td>0.000000</td>\n",
       "      <td>0.000000</td>\n",
       "      <td>0.000000</td>\n",
       "      <td>0.0</td>\n",
       "      <td>0.0</td>\n",
       "      <td>0.000000</td>\n",
       "      <td>0.000000</td>\n",
       "      <td>0.000000</td>\n",
       "      <td>0.00000</td>\n",
       "      <td>0.0</td>\n",
       "      <td>0.00000</td>\n",
       "      <td>0.0</td>\n",
       "      <td>0.0</td>\n",
       "      <td>0.116612</td>\n",
       "      <td>0.0</td>\n",
       "      <td>0.0</td>\n",
       "      <td>0.0</td>\n",
       "      <td>0.0</td>\n",
       "      <td>0.0</td>\n",
       "      <td>0.0</td>\n",
       "      <td>0.000000</td>\n",
       "      <td>0.0</td>\n",
       "      <td>0.0</td>\n",
       "      <td>0.0</td>\n",
       "      <td>0.00000</td>\n",
       "      <td>0.000000</td>\n",
       "      <td>0.000000</td>\n",
       "      <td>0.000000</td>\n",
       "      <td>0.047389</td>\n",
       "      <td>0.000000</td>\n",
       "      <td>0.000000</td>\n",
       "      <td>0.116612</td>\n",
       "      <td>1</td>\n",
       "    </tr>\n",
       "    <tr>\n",
       "      <th>4</th>\n",
       "      <td>0.0</td>\n",
       "      <td>0.0</td>\n",
       "      <td>0.0</td>\n",
       "      <td>0.00000</td>\n",
       "      <td>0.0</td>\n",
       "      <td>0.063394</td>\n",
       "      <td>0.054443</td>\n",
       "      <td>0.048093</td>\n",
       "      <td>0.0</td>\n",
       "      <td>0.00000</td>\n",
       "      <td>0.0</td>\n",
       "      <td>0.0</td>\n",
       "      <td>0.00000</td>\n",
       "      <td>0.000000</td>\n",
       "      <td>0.0</td>\n",
       "      <td>0.000000</td>\n",
       "      <td>0.0</td>\n",
       "      <td>0.063394</td>\n",
       "      <td>0.00000</td>\n",
       "      <td>0.00000</td>\n",
       "      <td>0.000000</td>\n",
       "      <td>0.000000</td>\n",
       "      <td>0.126788</td>\n",
       "      <td>0.000000</td>\n",
       "      <td>0.000000</td>\n",
       "      <td>0.0</td>\n",
       "      <td>0.000000</td>\n",
       "      <td>0.000000</td>\n",
       "      <td>0.0</td>\n",
       "      <td>0.0</td>\n",
       "      <td>0.0</td>\n",
       "      <td>0.0</td>\n",
       "      <td>0.0</td>\n",
       "      <td>0.0</td>\n",
       "      <td>0.0</td>\n",
       "      <td>0.0</td>\n",
       "      <td>0.0</td>\n",
       "      <td>0.000000</td>\n",
       "      <td>0.000000</td>\n",
       "      <td>0.00000</td>\n",
       "      <td>0.0</td>\n",
       "      <td>0.000000</td>\n",
       "      <td>0.000000</td>\n",
       "      <td>0.0</td>\n",
       "      <td>0.000000</td>\n",
       "      <td>0.000000</td>\n",
       "      <td>0.0</td>\n",
       "      <td>0.000000</td>\n",
       "      <td>0.054443</td>\n",
       "      <td>0.0</td>\n",
       "      <td>0.054443</td>\n",
       "      <td>0.0</td>\n",
       "      <td>0.000000</td>\n",
       "      <td>0.0</td>\n",
       "      <td>0.0</td>\n",
       "      <td>0.0</td>\n",
       "      <td>0.000000</td>\n",
       "      <td>0.054443</td>\n",
       "      <td>0.0</td>\n",
       "      <td>0.0</td>\n",
       "      <td>0.253575</td>\n",
       "      <td>0.0</td>\n",
       "      <td>0.0</td>\n",
       "      <td>0.0</td>\n",
       "      <td>0.0</td>\n",
       "      <td>0.000000</td>\n",
       "      <td>0.000000</td>\n",
       "      <td>0.00000</td>\n",
       "      <td>0.000000</td>\n",
       "      <td>0.000000</td>\n",
       "      <td>0.0</td>\n",
       "      <td>0.0</td>\n",
       "      <td>0.000000</td>\n",
       "      <td>0.000000</td>\n",
       "      <td>0.000000</td>\n",
       "      <td>0.000000</td>\n",
       "      <td>0.0</td>\n",
       "      <td>0.0</td>\n",
       "      <td>0.000000</td>\n",
       "      <td>0.0</td>\n",
       "      <td>0.0</td>\n",
       "      <td>0.0</td>\n",
       "      <td>0.0</td>\n",
       "      <td>0.0</td>\n",
       "      <td>0.000000</td>\n",
       "      <td>0.0</td>\n",
       "      <td>0.000000</td>\n",
       "      <td>0.000000</td>\n",
       "      <td>0.0</td>\n",
       "      <td>0.0</td>\n",
       "      <td>0.0</td>\n",
       "      <td>0.0</td>\n",
       "      <td>0.0</td>\n",
       "      <td>0.063394</td>\n",
       "      <td>0.0</td>\n",
       "      <td>0.000000</td>\n",
       "      <td>0.00000</td>\n",
       "      <td>0.00000</td>\n",
       "      <td>0.000000</td>\n",
       "      <td>0.000000</td>\n",
       "      <td>...</td>\n",
       "      <td>0.000000</td>\n",
       "      <td>0.0</td>\n",
       "      <td>0.0</td>\n",
       "      <td>0.000000</td>\n",
       "      <td>0.0</td>\n",
       "      <td>0.0</td>\n",
       "      <td>0.0</td>\n",
       "      <td>0.0</td>\n",
       "      <td>0.000000</td>\n",
       "      <td>0.0</td>\n",
       "      <td>0.0</td>\n",
       "      <td>0.063394</td>\n",
       "      <td>0.000000</td>\n",
       "      <td>0.0</td>\n",
       "      <td>0.0</td>\n",
       "      <td>0.0</td>\n",
       "      <td>0.000000</td>\n",
       "      <td>0.0</td>\n",
       "      <td>0.000000</td>\n",
       "      <td>0.0</td>\n",
       "      <td>0.0</td>\n",
       "      <td>0.000000</td>\n",
       "      <td>0.0</td>\n",
       "      <td>0.0</td>\n",
       "      <td>0.000000</td>\n",
       "      <td>0.0</td>\n",
       "      <td>0.000000</td>\n",
       "      <td>0.0</td>\n",
       "      <td>0.0</td>\n",
       "      <td>0.000000</td>\n",
       "      <td>0.0</td>\n",
       "      <td>0.0</td>\n",
       "      <td>0.000000</td>\n",
       "      <td>0.000000</td>\n",
       "      <td>0.000000</td>\n",
       "      <td>0.000000</td>\n",
       "      <td>0.00000</td>\n",
       "      <td>0.035740</td>\n",
       "      <td>0.000000</td>\n",
       "      <td>0.000000</td>\n",
       "      <td>0.000000</td>\n",
       "      <td>0.0</td>\n",
       "      <td>0.0</td>\n",
       "      <td>0.000000</td>\n",
       "      <td>0.063394</td>\n",
       "      <td>0.126788</td>\n",
       "      <td>0.0</td>\n",
       "      <td>0.108887</td>\n",
       "      <td>0.063394</td>\n",
       "      <td>0.054443</td>\n",
       "      <td>0.0</td>\n",
       "      <td>0.000000</td>\n",
       "      <td>0.000000</td>\n",
       "      <td>0.000000</td>\n",
       "      <td>0.0</td>\n",
       "      <td>0.054443</td>\n",
       "      <td>0.0</td>\n",
       "      <td>0.000000</td>\n",
       "      <td>0.0</td>\n",
       "      <td>0.0</td>\n",
       "      <td>0.316969</td>\n",
       "      <td>0.00000</td>\n",
       "      <td>0.0</td>\n",
       "      <td>0.0</td>\n",
       "      <td>0.00000</td>\n",
       "      <td>0.0</td>\n",
       "      <td>0.0</td>\n",
       "      <td>0.063394</td>\n",
       "      <td>0.063394</td>\n",
       "      <td>0.126788</td>\n",
       "      <td>0.0</td>\n",
       "      <td>0.0</td>\n",
       "      <td>0.000000</td>\n",
       "      <td>0.000000</td>\n",
       "      <td>0.063394</td>\n",
       "      <td>0.00000</td>\n",
       "      <td>0.0</td>\n",
       "      <td>0.00000</td>\n",
       "      <td>0.0</td>\n",
       "      <td>0.0</td>\n",
       "      <td>0.000000</td>\n",
       "      <td>0.0</td>\n",
       "      <td>0.0</td>\n",
       "      <td>0.0</td>\n",
       "      <td>0.0</td>\n",
       "      <td>0.0</td>\n",
       "      <td>0.0</td>\n",
       "      <td>0.000000</td>\n",
       "      <td>0.0</td>\n",
       "      <td>0.0</td>\n",
       "      <td>0.0</td>\n",
       "      <td>0.00000</td>\n",
       "      <td>0.000000</td>\n",
       "      <td>0.000000</td>\n",
       "      <td>0.000000</td>\n",
       "      <td>0.000000</td>\n",
       "      <td>0.000000</td>\n",
       "      <td>0.000000</td>\n",
       "      <td>0.000000</td>\n",
       "      <td>1</td>\n",
       "    </tr>\n",
       "  </tbody>\n",
       "</table>\n",
       "<p>5 rows × 867 columns</p>\n",
       "</div>"
      ],
      "text/plain": [
       "   abate  abiyote  able  abstain  access  accessed  according   account  \\\n",
       "0    0.0      0.0   0.0  0.05826     0.0  0.000000   0.000000  0.000000   \n",
       "1    0.0      0.0   0.0  0.00000     0.0  0.000000   0.000000  0.000000   \n",
       "2    0.0      0.0   0.0  0.00000     0.0  0.000000   0.052772  0.000000   \n",
       "3    0.0      0.0   0.0  0.00000     0.0  0.000000   0.000000  0.000000   \n",
       "4    0.0      0.0   0.0  0.00000     0.0  0.063394   0.054443  0.048093   \n",
       "\n",
       "   accurate  achieve  acre  across   action  activist  actually      adam  \\\n",
       "0       0.0  0.05826   0.0     0.0  0.05826  0.000000       0.0  0.000000   \n",
       "1       0.0  0.00000   0.0     0.0  0.00000  0.000000       0.0  0.000000   \n",
       "2       0.0  0.00000   0.0     0.0  0.00000  0.000000       0.0  0.061447   \n",
       "3       0.0  0.00000   0.0     0.0  0.00000  0.058306       0.0  0.000000   \n",
       "4       0.0  0.00000   0.0     0.0  0.00000  0.000000       0.0  0.000000   \n",
       "\n",
       "   add   address  adoption   affair  affected  affordable    agency     agent  \\\n",
       "0  0.0  0.000000   0.05826  0.05826  0.000000    0.000000  0.000000  0.000000   \n",
       "1  0.0  0.000000   0.00000  0.00000  0.087406    0.000000  0.000000  0.000000   \n",
       "2  0.0  0.000000   0.00000  0.00000  0.000000    0.061447  0.000000  0.000000   \n",
       "3  0.0  0.000000   0.00000  0.00000  0.000000    0.000000  0.000000  0.058306   \n",
       "4  0.0  0.063394   0.00000  0.00000  0.000000    0.000000  0.126788  0.000000   \n",
       "\n",
       "   aggravated  agio    agreed  agreement  aid  aide  aiming  allaying  allow  \\\n",
       "0    0.000000   0.0  0.000000   0.000000  0.0   0.0     0.0       0.0    0.0   \n",
       "1    0.000000   0.0  0.087406   0.087406  0.0   0.0     0.0       0.0    0.0   \n",
       "2    0.000000   0.0  0.000000   0.000000  0.0   0.0     0.0       0.0    0.0   \n",
       "3    0.058306   0.0  0.000000   0.000000  0.0   0.0     0.0       0.0    0.0   \n",
       "4    0.000000   0.0  0.000000   0.000000  0.0   0.0     0.0       0.0    0.0   \n",
       "\n",
       "   allowing  allows  almost  already      also  altering   amazon  american  \\\n",
       "0       0.0     0.0     0.0      0.0  0.000000  0.000000  0.05826       0.0   \n",
       "1       0.0     0.0     0.0      0.0  0.098554  0.000000  0.00000       0.0   \n",
       "2       0.0     0.0     0.0      0.0  0.000000  0.061447  0.00000       0.0   \n",
       "3       0.0     0.0     0.0      0.0  0.000000  0.000000  0.00000       0.0   \n",
       "4       0.0     0.0     0.0      0.0  0.000000  0.000000  0.00000       0.0   \n",
       "\n",
       "      among  analysis  andrew  announce  announced  annual   another  \\\n",
       "0  0.000000  0.000000     0.0  0.000000   0.000000     0.0  0.000000   \n",
       "1  0.000000  0.087406     0.0  0.087406   0.075065     0.0  0.000000   \n",
       "2  0.061447  0.000000     0.0  0.000000   0.000000     0.0  0.000000   \n",
       "3  0.000000  0.000000     0.0  0.000000   0.000000     0.0  0.058306   \n",
       "4  0.000000  0.000000     0.0  0.000000   0.000000     0.0  0.000000   \n",
       "\n",
       "     answer  anti    appear  april      area  arena  arkansas  around  \\\n",
       "0  0.000000   0.0  0.000000    0.0  0.000000    0.0       0.0     0.0   \n",
       "1  0.000000   0.0  0.000000    0.0  0.000000    0.0       0.0     0.0   \n",
       "2  0.000000   0.0  0.000000    0.0  0.000000    0.0       0.0     0.0   \n",
       "3  0.000000   0.0  0.000000    0.0  0.058306    0.0       0.0     0.0   \n",
       "4  0.054443   0.0  0.054443    0.0  0.000000    0.0       0.0     0.0   \n",
       "\n",
       "   arrested      asks  athens  athletics  attachment  attracted  august  \\\n",
       "0  0.000000  0.000000     0.0        0.0    0.000000        0.0     0.0   \n",
       "1  0.000000  0.000000     0.0        0.0    0.000000        0.0     0.0   \n",
       "2  0.000000  0.052772     0.0        0.0    0.000000        0.0     0.0   \n",
       "3  0.524755  0.000000     0.0        0.0    0.000000        0.0     0.0   \n",
       "4  0.000000  0.054443     0.0        0.0    0.253575        0.0     0.0   \n",
       "\n",
       "   australia  automatic   awaited      back   backed      bail      bank  \\\n",
       "0        0.0        0.0  0.000000  0.050034  0.05826  0.000000  0.000000   \n",
       "1        0.0        0.0  0.000000  0.000000  0.00000  0.000000  0.087406   \n",
       "2        0.0        0.0  0.061447  0.052772  0.00000  0.000000  0.000000   \n",
       "3        0.0        0.0  0.000000  0.000000  0.00000  0.116612  0.000000   \n",
       "4        0.0        0.0  0.000000  0.000000  0.00000  0.000000  0.000000   \n",
       "\n",
       "   barbara  base     based       bbc      beat     begun  bekele  belief  \\\n",
       "0      0.0   0.0  0.100068  0.000000  0.000000  0.000000     0.0     0.0   \n",
       "1      0.0   0.0  0.000000  0.000000  0.000000  0.087406     0.0     0.0   \n",
       "2      0.0   0.0  0.000000  0.000000  0.052772  0.000000     0.0     0.0   \n",
       "3      0.0   0.0  0.000000  0.100148  0.000000  0.000000     0.0     0.0   \n",
       "4      0.0   0.0  0.000000  0.000000  0.000000  0.000000     0.0     0.0   \n",
       "\n",
       "   believed  bernard  bershawn  best  better  big   biggest  birmingham  \\\n",
       "0  0.000000      0.0       0.0   0.0     0.0  0.0  0.000000         0.0   \n",
       "1  0.087406      0.0       0.0   0.0     0.0  0.0  0.087406         0.0   \n",
       "2  0.000000      0.0       0.0   0.0     0.0  0.0  0.000000         0.0   \n",
       "3  0.000000      0.0       0.0   0.0     0.0  0.0  0.000000         0.0   \n",
       "4  0.000000      0.0       0.0   0.0     0.0  0.0  0.000000         0.0   \n",
       "\n",
       "         bn       bnp  body  boost  boston  bowles  brannen    breach  break  \\\n",
       "0  0.000000  0.000000   0.0    0.0     0.0     0.0      0.0  0.000000    0.0   \n",
       "1  0.087406  0.000000   0.0    0.0     0.0     0.0      0.0  0.000000    0.0   \n",
       "2  0.000000  0.000000   0.0    0.0     0.0     0.0      0.0  0.000000    0.0   \n",
       "3  0.000000  0.233224   0.0    0.0     0.0     0.0      0.0  0.000000    0.0   \n",
       "4  0.000000  0.000000   0.0    0.0     0.0     0.0      0.0  0.063394    0.0   \n",
       "\n",
       "   brighton  bringing  britain   british    briton   ...        take  taking  \\\n",
       "0  0.000000   0.05826  0.00000  0.000000  0.000000   ...    0.000000     0.0   \n",
       "1  0.000000   0.00000  0.06631  0.000000  0.087406   ...    0.000000     0.0   \n",
       "2  0.000000   0.00000  0.00000  0.000000  0.000000   ...    0.046616     0.0   \n",
       "3  0.058306   0.00000  0.00000  0.050074  0.000000   ...    0.000000     0.0   \n",
       "4  0.000000   0.00000  0.00000  0.000000  0.000000   ...    0.000000     0.0   \n",
       "\n",
       "   talent      talk  target  tax  taxpayer  team  technology  teenager  \\\n",
       "0     0.0  0.000000     0.0  0.0       0.0   0.0    0.000000       0.0   \n",
       "1     0.0  0.087406     0.0  0.0       0.0   0.0    0.000000       0.0   \n",
       "2     0.0  0.000000     0.0  0.0       0.0   0.0    0.122894       0.0   \n",
       "3     0.0  0.000000     0.0  0.0       0.0   0.0    0.000000       0.0   \n",
       "4     0.0  0.000000     0.0  0.0       0.0   0.0    0.000000       0.0   \n",
       "\n",
       "   telephony      tell       ten  terminal  text  they     think  third  \\\n",
       "0        0.0  0.000000  0.000000       0.0   0.0   0.0  0.000000    0.0   \n",
       "1        0.0  0.000000  0.000000       0.0   0.0   0.0  0.000000    0.0   \n",
       "2        0.0  0.000000  0.061447       0.0   0.0   0.0  0.052772    0.0   \n",
       "3        0.0  0.000000  0.000000       0.0   0.0   0.0  0.000000    0.0   \n",
       "4        0.0  0.063394  0.000000       0.0   0.0   0.0  0.000000    0.0   \n",
       "\n",
       "    thought  three  throne  thursday  tight  time    tipped  title       top  \\\n",
       "0  0.000000    0.0     0.0  0.000000    0.0   0.0  0.000000    0.0  0.000000   \n",
       "1  0.087406    0.0     0.0  0.087406    0.0   0.0  0.000000    0.0  0.000000   \n",
       "2  0.000000    0.0     0.0  0.000000    0.0   0.0  0.061447    0.0  0.122894   \n",
       "3  0.000000    0.0     0.0  0.000000    0.0   0.0  0.000000    0.0  0.000000   \n",
       "4  0.000000    0.0     0.0  0.000000    0.0   0.0  0.000000    0.0  0.000000   \n",
       "\n",
       "   train  training    travel  travelodge  true   tsunami   tuesday        tv  \\\n",
       "0    0.0       0.0  0.000000         0.0   0.0  0.000000  0.000000  0.000000   \n",
       "1    0.0       0.0  0.000000         0.0   0.0  0.174812  0.000000  0.000000   \n",
       "2    0.0       0.0  0.061447         0.0   0.0  0.000000  0.000000  0.061447   \n",
       "3    0.0       0.0  0.000000         0.0   0.0  0.000000  0.058306  0.000000   \n",
       "4    0.0       0.0  0.000000         0.0   0.0  0.000000  0.000000  0.000000   \n",
       "\n",
       "    twelfth    twice       two   tyndall        uk  ultimate  unable  \\\n",
       "0  0.000000  0.05826  0.065690  0.000000  0.000000  0.000000     0.0   \n",
       "1  0.000000  0.00000  0.000000  0.000000  0.000000  0.000000     0.0   \n",
       "2  0.000000  0.00000  0.000000  0.000000  0.046616  0.061447     0.0   \n",
       "3  0.058306  0.00000  0.032871  0.116612  0.000000  0.000000     0.0   \n",
       "4  0.000000  0.00000  0.035740  0.000000  0.000000  0.000000     0.0   \n",
       "\n",
       "   underestimating     union  unrelated  unsolicited  unveiled       use  \\\n",
       "0              0.0  0.044198   0.000000     0.000000       0.0  0.050034   \n",
       "1              0.0  0.000000   0.000000     0.000000       0.0  0.000000   \n",
       "2              0.0  0.000000   0.000000     0.000000       0.0  0.000000   \n",
       "3              0.0  0.000000   0.000000     0.000000       0.0  0.000000   \n",
       "4              0.0  0.000000   0.063394     0.126788       0.0  0.108887   \n",
       "\n",
       "       used      user  using  variously   vaughan        ve  venue       via  \\\n",
       "0  0.000000  0.000000    0.0   0.000000  0.000000  0.000000    0.0  0.000000   \n",
       "1  0.000000  0.000000    0.0   0.000000  0.000000  0.000000    0.0  0.000000   \n",
       "2  0.000000  0.000000    0.0   0.000000  0.122894  0.061447    0.0  0.000000   \n",
       "3  0.000000  0.000000    0.0   0.058306  0.000000  0.000000    0.0  0.000000   \n",
       "4  0.063394  0.054443    0.0   0.000000  0.000000  0.000000    0.0  0.054443   \n",
       "\n",
       "   victory     video  view  virgin     virus    vocal  voice  voluntarily  \\\n",
       "0      0.0  0.000000   0.0     0.0  0.000000  0.05826    0.0          0.0   \n",
       "1      0.0  0.000000   0.0     0.0  0.000000  0.00000    0.0          0.0   \n",
       "2      0.0  0.052772   0.0     0.0  0.000000  0.00000    0.0          0.0   \n",
       "3      0.0  0.000000   0.0     0.0  0.000000  0.00000    0.0          0.0   \n",
       "4      0.0  0.000000   0.0     0.0  0.316969  0.00000    0.0          0.0   \n",
       "\n",
       "    voting  wale  want      warn    warned   warning  watch  way        we  \\\n",
       "0  0.05826   0.0   0.0  0.000000  0.000000  0.000000    0.0  0.0  0.000000   \n",
       "1  0.00000   0.0   0.0  0.000000  0.000000  0.000000    0.0  0.0  0.000000   \n",
       "2  0.00000   0.0   0.0  0.000000  0.000000  0.000000    0.0  0.0  0.061447   \n",
       "3  0.00000   0.0   0.0  0.000000  0.000000  0.000000    0.0  0.0  0.000000   \n",
       "4  0.00000   0.0   0.0  0.063394  0.063394  0.126788    0.0  0.0  0.000000   \n",
       "\n",
       "    wealthy   website     week  welcome  welcomed  well  went      west  \\\n",
       "0  0.000000  0.000000  0.00000      0.0   0.05826   0.0   0.0  0.000000   \n",
       "1  0.087406  0.000000  0.06631      0.0   0.00000   0.0   0.0  0.000000   \n",
       "2  0.000000  0.000000  0.00000      0.0   0.00000   0.0   0.0  0.000000   \n",
       "3  0.000000  0.000000  0.00000      0.0   0.00000   0.0   0.0  0.116612   \n",
       "4  0.000000  0.063394  0.00000      0.0   0.00000   0.0   0.0  0.000000   \n",
       "\n",
       "   whipped   wi  william  win  winning  wireless   without  women  wondimu  \\\n",
       "0      0.0  0.0      0.0  0.0      0.0       0.0  0.044198    0.0      0.0   \n",
       "1      0.0  0.0      0.0  0.0      0.0       0.0  0.000000    0.0      0.0   \n",
       "2      0.0  0.0      0.0  0.0      0.0       0.0  0.046616    0.0      0.0   \n",
       "3      0.0  0.0      0.0  0.0      0.0       0.0  0.000000    0.0      0.0   \n",
       "4      0.0  0.0      0.0  0.0      0.0       0.0  0.000000    0.0      0.0   \n",
       "\n",
       "   wood     word     world     would      xbox      year      yepp        yh  \\\n",
       "0   0.0  0.05826  0.000000  0.098535  0.000000  0.000000  0.000000  0.000000   \n",
       "1   0.0  0.00000  0.049277  0.049277  0.000000  0.035520  0.000000  0.000000   \n",
       "2   0.0  0.00000  0.000000  0.069284  0.061447  0.099885  0.061447  0.061447   \n",
       "3   0.0  0.00000  0.000000  0.000000  0.000000  0.047389  0.000000  0.000000   \n",
       "4   0.0  0.00000  0.000000  0.000000  0.000000  0.000000  0.000000  0.000000   \n",
       "\n",
       "   yorkshire  TARGET  \n",
       "0   0.000000       1  \n",
       "1   0.000000       1  \n",
       "2   0.000000       0  \n",
       "3   0.116612       1  \n",
       "4   0.000000       1  \n",
       "\n",
       "[5 rows x 867 columns]"
      ]
     },
     "execution_count": 40,
     "metadata": {},
     "output_type": "execute_result"
    }
   ],
   "source": [
    "df.head()"
   ]
  },
  {
   "cell_type": "markdown",
   "metadata": {},
   "source": [
    "## Corpus Statistics \n",
    "\n",
    "How many non-zero elements are there?\n",
    "- Adapt the code below, using the `df` version of the `response` object to replace everywhere below it says `DATA`\n",
    "- Interpret the findings\n"
   ]
  },
  {
   "cell_type": "code",
   "execution_count": 41,
   "metadata": {},
   "outputs": [],
   "source": [
    "features = df.iloc[:, :-1]\n",
    "\n",
    "# target = df.TARGET"
   ]
  },
  {
   "cell_type": "code",
   "execution_count": null,
   "metadata": {},
   "outputs": [],
   "source": [
    "# Edit code before running it\n",
    "\n",
    "non_zero_cols = np.count_nonzero(_________) / float(_______.shape[0])\n",
    "print(\"Average Number of Non-Zero Elements in Vectorized Articles: {}\".format(________))\n",
    "\n",
    "percent_sparse = 1 - (_________ / float(________.shape[1]))\n",
    "print('Percentage of columns containing 0: {}'.format(________))"
   ]
  },
  {
   "cell_type": "code",
   "execution_count": 43,
   "metadata": {},
   "outputs": [],
   "source": [
    "# adding for processing:\n",
    "\n",
    "df_LEMM_articles['TARGET'] = target\n",
    "\n",
    "df_LEMM_articles['TARGET'] = pd.get_dummies(df.TARGET, drop_first=True)"
   ]
  },
  {
   "cell_type": "code",
   "execution_count": 44,
   "metadata": {},
   "outputs": [],
   "source": [
    "stop_words = stopwords.words('english')\n",
    "\n",
    "def process_article(article):\n",
    "    tokens = nltk.word_tokenize(article)\n",
    "    stopwords_removed = [token.lower() for token in tokens if token.lower() not in stop_words]\n",
    "    return stopwords_removed "
   ]
  },
  {
   "cell_type": "code",
   "execution_count": 45,
   "metadata": {},
   "outputs": [],
   "source": [
    "df_LEMM_articles.columns = ['body', 'TARGET']"
   ]
  },
  {
   "cell_type": "code",
   "execution_count": 46,
   "metadata": {},
   "outputs": [],
   "source": [
    "# processed_data = list(map(process_article, df_LEMM_articles))"
   ]
  },
  {
   "cell_type": "code",
   "execution_count": 47,
   "metadata": {},
   "outputs": [],
   "source": [
    "# Separate the dataframe by target into two dataframes\n",
    "\n",
    "df_freq_politics = df_LEMM_articles[df_LEMM_articles['TARGET']==1]\n",
    "\n",
    "df_freq_not_politics = df_LEMM_articles[df_LEMM_articles['TARGET']==0]"
   ]
  },
  {
   "cell_type": "code",
   "execution_count": 48,
   "metadata": {},
   "outputs": [],
   "source": [
    "# Set your data to the 'body'\n",
    "\n",
    "data_politics = df_freq_politics['body']\n",
    "data_not_politics = df_freq_not_politics['body']"
   ]
  },
  {
   "cell_type": "code",
   "execution_count": 49,
   "metadata": {},
   "outputs": [],
   "source": [
    "pros_politics = list(map(process_article, data_politics))\n",
    "pros_not_politics = list(map(process_article, data_not_politics))"
   ]
  },
  {
   "cell_type": "code",
   "execution_count": 50,
   "metadata": {},
   "outputs": [
    {
     "data": {
      "text/plain": [
       "485"
      ]
     },
     "execution_count": 50,
     "metadata": {},
     "output_type": "execute_result"
    }
   ],
   "source": [
    "# Total vocabulary for POLITICS\n",
    "\n",
    "total_vocab_politics = set()\n",
    "for article in pros_politics:\n",
    "    total_vocab_politics.update(article)\n",
    "    \n",
    "len(total_vocab_politics)"
   ]
  },
  {
   "cell_type": "code",
   "execution_count": 51,
   "metadata": {},
   "outputs": [
    {
     "data": {
      "text/plain": [
       "468"
      ]
     },
     "execution_count": 51,
     "metadata": {},
     "output_type": "execute_result"
    }
   ],
   "source": [
    "# Total vocabulary for NOT POLITICS\n",
    "\n",
    "total_vocab_NOT_politics = set()\n",
    "for article in pros_not_politics:\n",
    "    total_vocab_NOT_politics.update(article)\n",
    "    \n",
    "len(total_vocab_NOT_politics)"
   ]
  },
  {
   "cell_type": "code",
   "execution_count": 52,
   "metadata": {},
   "outputs": [],
   "source": [
    "# How to flatten the data accordingly\n",
    "# flat_list = [item for sublist in l for item in sublist]\n",
    "\n",
    "flat_politics = [item for sublist in pros_politics for item in sublist]\n",
    "flat_not_politics = [item for sublist in pros_not_politics for item in sublist]"
   ]
  },
  {
   "cell_type": "code",
   "execution_count": 53,
   "metadata": {},
   "outputs": [],
   "source": [
    "politics_freq = FreqDist(flat_politics)\n",
    "not_politics_freq = FreqDist(flat_not_politics)"
   ]
  },
  {
   "cell_type": "code",
   "execution_count": 54,
   "metadata": {},
   "outputs": [
    {
     "data": {
      "text/plain": [
       "[('said', 15),\n",
       " ('arrested', 9),\n",
       " ('fbi', 8),\n",
       " ('computer', 7),\n",
       " ('would', 7),\n",
       " ('duchy', 7),\n",
       " ('immigration', 7),\n",
       " ('independent', 7),\n",
       " ('say', 6),\n",
       " ('e', 6),\n",
       " ('mail', 6),\n",
       " ('income', 6),\n",
       " ('prince', 6),\n",
       " ('law', 5),\n",
       " ('invention', 5),\n",
       " ('one', 5),\n",
       " ('two', 5),\n",
       " ('year', 5),\n",
       " ('public', 5),\n",
       " ('virus', 5)]"
      ]
     },
     "execution_count": 54,
     "metadata": {},
     "output_type": "execute_result"
    }
   ],
   "source": [
    "politics_freq.most_common(20)"
   ]
  },
  {
   "cell_type": "code",
   "execution_count": 55,
   "metadata": {},
   "outputs": [
    {
     "data": {
      "text/plain": [
       "[('world', 24),\n",
       " (\"'s\", 22),\n",
       " ('year', 12),\n",
       " ('record', 12),\n",
       " ('indoor', 12),\n",
       " ('olympic', 10),\n",
       " ('user', 10),\n",
       " ('gadget', 9),\n",
       " ('skype', 9),\n",
       " ('mark', 8),\n",
       " ('champion', 8),\n",
       " ('sec', 8),\n",
       " ('medallist', 8),\n",
       " ('bekele', 7),\n",
       " ('net', 6),\n",
       " ('call', 6),\n",
       " ('mobile', 5),\n",
       " ('would', 5),\n",
       " ('sullivan', 5),\n",
       " ('ireland', 5)]"
      ]
     },
     "execution_count": 55,
     "metadata": {},
     "output_type": "execute_result"
    }
   ],
   "source": [
    "not_politics_freq.most_common(20)"
   ]
  },
  {
   "cell_type": "markdown",
   "metadata": {},
   "source": [
    "# Classification"
   ]
  },
  {
   "cell_type": "markdown",
   "metadata": {},
   "source": [
    "## Preprocessing"
   ]
  },
  {
   "cell_type": "code",
   "execution_count": 56,
   "metadata": {},
   "outputs": [],
   "source": [
    "df = pd.read_csv('nlp_classification.csv')"
   ]
  },
  {
   "cell_type": "code",
   "execution_count": 57,
   "metadata": {},
   "outputs": [
    {
     "data": {
      "text/html": [
       "<div>\n",
       "<style scoped>\n",
       "    .dataframe tbody tr th:only-of-type {\n",
       "        vertical-align: middle;\n",
       "    }\n",
       "\n",
       "    .dataframe tbody tr th {\n",
       "        vertical-align: top;\n",
       "    }\n",
       "\n",
       "    .dataframe thead th {\n",
       "        text-align: right;\n",
       "    }\n",
       "</style>\n",
       "<table border=\"1\" class=\"dataframe\">\n",
       "  <thead>\n",
       "    <tr style=\"text-align: right;\">\n",
       "      <th></th>\n",
       "      <th>body</th>\n",
       "      <th>target</th>\n",
       "    </tr>\n",
       "  </thead>\n",
       "  <tbody>\n",
       "    <tr>\n",
       "      <th>0</th>\n",
       "      <td>Noting that the resignation of James Mattis as...</td>\n",
       "      <td>1</td>\n",
       "    </tr>\n",
       "    <tr>\n",
       "      <th>1</th>\n",
       "      <td>Desperate to unwind after months of nonstop wo...</td>\n",
       "      <td>1</td>\n",
       "    </tr>\n",
       "    <tr>\n",
       "      <th>2</th>\n",
       "      <td>Nearly halfway through his presidential term, ...</td>\n",
       "      <td>1</td>\n",
       "    </tr>\n",
       "    <tr>\n",
       "      <th>3</th>\n",
       "      <td>Attempting to make amends for gross abuses of ...</td>\n",
       "      <td>1</td>\n",
       "    </tr>\n",
       "    <tr>\n",
       "      <th>4</th>\n",
       "      <td>Decrying the Senate’s resolution blaming the c...</td>\n",
       "      <td>1</td>\n",
       "    </tr>\n",
       "  </tbody>\n",
       "</table>\n",
       "</div>"
      ],
      "text/plain": [
       "                                                body  target\n",
       "0  Noting that the resignation of James Mattis as...       1\n",
       "1  Desperate to unwind after months of nonstop wo...       1\n",
       "2  Nearly halfway through his presidential term, ...       1\n",
       "3  Attempting to make amends for gross abuses of ...       1\n",
       "4  Decrying the Senate’s resolution blaming the c...       1"
      ]
     },
     "execution_count": 57,
     "metadata": {},
     "output_type": "execute_result"
    }
   ],
   "source": [
    "df.head()"
   ]
  },
  {
   "cell_type": "code",
   "execution_count": 58,
   "metadata": {},
   "outputs": [],
   "source": [
    "data = df['body']\n",
    "target = df['target']"
   ]
  },
  {
   "cell_type": "code",
   "execution_count": 59,
   "metadata": {},
   "outputs": [],
   "source": [
    "sw_list = stopwords.words('english')\n",
    "sw_list += list(string.punctuation)\n",
    "sw_list += [\"''\", '\"\"', '...', '``', '’', '“', '’', '”', '‘', '‘',\n",
    "            'said', 'one', 'com', 'satirewire', '-', '–', '—', 'satirewire.com']\n",
    "sw_set = set(sw_list)"
   ]
  },
  {
   "cell_type": "code",
   "execution_count": 60,
   "metadata": {},
   "outputs": [],
   "source": [
    "def remove_punc(text):\n",
    "    words = text.split()\n",
    "    # remove punctuation from each word\n",
    "    table = str.maketrans('', '', string.punctuation)\n",
    "    stripped = [w.translate(table) for w in words]\n",
    "    removed = [w.lower() for w in stripped]\n",
    "    return removed"
   ]
  },
  {
   "cell_type": "code",
   "execution_count": 61,
   "metadata": {},
   "outputs": [],
   "source": [
    "def process_article(article):\n",
    "    tokens = nltk.word_tokenize(article)\n",
    "    stopwords_removed = [token.lower() for token in tokens if token.lower() not in sw_set]\n",
    "    return stopwords_removed "
   ]
  },
  {
   "cell_type": "code",
   "execution_count": 62,
   "metadata": {},
   "outputs": [
    {
     "data": {
      "text/plain": [
       "body      0\n",
       "target    0\n",
       "dtype: int64"
      ]
     },
     "execution_count": 62,
     "metadata": {},
     "output_type": "execute_result"
    }
   ],
   "source": [
    "df.isna().sum()"
   ]
  },
  {
   "cell_type": "code",
   "execution_count": 63,
   "metadata": {},
   "outputs": [],
   "source": [
    "processed_data = list(map(process_article, data))"
   ]
  },
  {
   "cell_type": "code",
   "execution_count": 64,
   "metadata": {},
   "outputs": [],
   "source": [
    "# mmll = set()\n",
    "# mmll.update(['3', '2'])"
   ]
  },
  {
   "cell_type": "code",
   "execution_count": 65,
   "metadata": {},
   "outputs": [],
   "source": [
    "# mmll"
   ]
  },
  {
   "cell_type": "code",
   "execution_count": 66,
   "metadata": {},
   "outputs": [
    {
     "data": {
      "text/plain": [
       "26669"
      ]
     },
     "execution_count": 66,
     "metadata": {},
     "output_type": "execute_result"
    }
   ],
   "source": [
    "total_vocab = set()\n",
    "for comment in processed_data:\n",
    "    total_vocab.update(comment)\n",
    "len(total_vocab)"
   ]
  },
  {
   "cell_type": "code",
   "execution_count": 67,
   "metadata": {},
   "outputs": [],
   "source": [
    "def join_list(listy): \n",
    "    ' '.join(listy)\n",
    "        \n",
    "# X = [' '.join(d) for d in processed_data]\n",
    "# y = target\n",
    "# X[3]"
   ]
  },
  {
   "cell_type": "code",
   "execution_count": 68,
   "metadata": {},
   "outputs": [],
   "source": [
    "lemmatized_output = []\n",
    "\n",
    "for listy in processed_data:\n",
    "    lemmed = ' '.join([lemmatizer.lemmatize(w) for w in listy])\n",
    "    lemmatized_output.append(lemmed)"
   ]
  },
  {
   "cell_type": "code",
   "execution_count": 69,
   "metadata": {},
   "outputs": [],
   "source": [
    "# lemmatized_output[:5]"
   ]
  },
  {
   "cell_type": "code",
   "execution_count": 70,
   "metadata": {},
   "outputs": [],
   "source": [
    "X_lem = [' '.join(d) for d in processed_data]\n",
    "y_lem = target\n",
    "# X[3]"
   ]
  },
  {
   "cell_type": "code",
   "execution_count": 71,
   "metadata": {},
   "outputs": [],
   "source": [
    "### LEMMING TRAIN TEST SPLIT ###"
   ]
  },
  {
   "cell_type": "code",
   "execution_count": 72,
   "metadata": {},
   "outputs": [],
   "source": [
    "X_train_lem, X_test_lem, y_train_lem, y_test_lem = train_test_split(X_lem, y_lem, test_size=0.20, random_state=1)"
   ]
  },
  {
   "cell_type": "code",
   "execution_count": 73,
   "metadata": {},
   "outputs": [
    {
     "data": {
      "text/plain": [
       "<800x21938 sparse matrix of type '<class 'numpy.float64'>'\n",
       "\twith 134287 stored elements in Compressed Sparse Row format>"
      ]
     },
     "execution_count": 73,
     "metadata": {},
     "output_type": "execute_result"
    }
   ],
   "source": [
    "tfidf = TfidfVectorizer()\n",
    "tfidf_data_train_lem = tfidf.fit_transform(X_train_lem)\n",
    "tfidf_data_test_lem = tfidf.transform(X_test_lem)\n",
    "\n",
    "tfidf_data_train_lem"
   ]
  },
  {
   "cell_type": "markdown",
   "metadata": {},
   "source": [
    "### Lets classify"
   ]
  },
  {
   "cell_type": "code",
   "execution_count": 74,
   "metadata": {},
   "outputs": [],
   "source": [
    "rf_classifier_lem = RandomForestClassifier(n_estimators=100, random_state=0)"
   ]
  },
  {
   "cell_type": "code",
   "execution_count": 75,
   "metadata": {},
   "outputs": [],
   "source": [
    "rf_classifier_lem.fit(tfidf_data_train_lem, y_train_lem)\n",
    "rf_test_preds_lem = rf_classifier_lem.predict(tfidf_data_test_lem)"
   ]
  },
  {
   "cell_type": "code",
   "execution_count": 76,
   "metadata": {},
   "outputs": [
    {
     "name": "stdout",
     "output_type": "stream",
     "text": [
      "Random Forest w/ Lemmatization\n",
      "Testing Accuracy: 0.975\n",
      "\n",
      "F1 Score: 0.9741\n"
     ]
    }
   ],
   "source": [
    "rf_acc_score_lem = accuracy_score(y_test_lem, rf_test_preds_lem)\n",
    "rf_f1_score_lem = f1_score(y_test_lem, rf_test_preds_lem)\n",
    "print('Random Forest w/ Lemmatization')\n",
    "print(\"Testing Accuracy: {:.4}\".format(rf_acc_score_lem))\n",
    "print()\n",
    "print(\"F1 Score: {:.4}\".format(rf_f1_score_lem))"
   ]
  },
  {
   "cell_type": "code",
   "execution_count": 77,
   "metadata": {},
   "outputs": [
    {
     "data": {
      "image/png": "[encoded data removed]",
      "text/plain": [
       "<Figure size 432x288 with 1 Axes>"
      ]
     },
     "metadata": {},
     "output_type": "display_data"
    }
   ],
   "source": [
    "from sklearn.metrics import confusion_matrix\n",
    "import seaborn as sns; sns.set()\n",
    "\n",
    "\n",
    "mat = confusion_matrix(y_test_lem, rf_test_preds_lem)\n",
    "sns.heatmap(mat.T, square=True, annot=True, fmt='d', cbar=False,\n",
    "            xticklabels=['Satire', 'Not_Satire'], yticklabels=['Satire', 'Not_Satire'])\n",
    "plt.xlabel('true label')\n",
    "plt.ylabel('predicted label');"
   ]
  },
  {
   "cell_type": "code",
   "execution_count": null,
   "metadata": {},
   "outputs": [],
   "source": []
  },
  {
   "cell_type": "markdown",
   "metadata": {},
   "source": [
    "### Some corpus statistics:"
   ]
  },
  {
   "cell_type": "code",
   "execution_count": 78,
   "metadata": {},
   "outputs": [
    {
     "name": "stdout",
     "output_type": "stream",
     "text": [
      "Average Number of Non-Zero Elements in Vectorized Articles: 167.85875\n",
      "Percentage of columns containing 0: 0.99234849348163\n"
     ]
    }
   ],
   "source": [
    "non_zero_cols = tfidf_data_train_lem.nnz / float(tfidf_data_train_lem.shape[0])\n",
    "print(\"Average Number of Non-Zero Elements in Vectorized Articles: {}\".format(non_zero_cols))\n",
    "\n",
    "percent_sparse = 1 - (non_zero_cols / float(tfidf_data_train_lem.shape[1]))\n",
    "print('Percentage of columns containing 0: {}'.format(percent_sparse))"
   ]
  },
  {
   "cell_type": "markdown",
   "metadata": {},
   "source": [
    "#### Most frequent words:"
   ]
  },
  {
   "cell_type": "code",
   "execution_count": 79,
   "metadata": {},
   "outputs": [],
   "source": [
    "df_freq_satire = df[df['target']==1]\n",
    "df_freq_not_satire = df[df['target']==0]"
   ]
  },
  {
   "cell_type": "code",
   "execution_count": 80,
   "metadata": {},
   "outputs": [],
   "source": [
    "data_sat = df_freq_satire['body']\n",
    "data_not_sat = df_freq_not_satire['body']"
   ]
  },
  {
   "cell_type": "code",
   "execution_count": 81,
   "metadata": {},
   "outputs": [],
   "source": [
    "pros_satire = list(map(process_article, data_sat))\n",
    "pros_not_satire = list(map(process_article, data_not_sat))"
   ]
  },
  {
   "cell_type": "code",
   "execution_count": 82,
   "metadata": {},
   "outputs": [
    {
     "data": {
      "text/plain": [
       "19090"
      ]
     },
     "execution_count": 82,
     "metadata": {},
     "output_type": "execute_result"
    }
   ],
   "source": [
    "total_vocab_sat = set()\n",
    "for comment in pros_satire:\n",
    "    total_vocab_sat.update(comment)\n",
    "len(total_vocab_sat)"
   ]
  },
  {
   "cell_type": "code",
   "execution_count": 83,
   "metadata": {},
   "outputs": [
    {
     "data": {
      "text/plain": [
       "15186"
      ]
     },
     "execution_count": 83,
     "metadata": {},
     "output_type": "execute_result"
    }
   ],
   "source": [
    "total_vocab_NOT_sat = set()\n",
    "for comment in pros_not_satire:\n",
    "    total_vocab_NOT_sat.update(comment)\n",
    "len(total_vocab_NOT_sat)"
   ]
  },
  {
   "cell_type": "code",
   "execution_count": null,
   "metadata": {},
   "outputs": [],
   "source": []
  },
  {
   "cell_type": "code",
   "execution_count": 84,
   "metadata": {},
   "outputs": [],
   "source": [
    "# We will need this for later:\n",
    "\n",
    "# flat_list = [item for sublist in l for item in sublist]\n",
    "flat_satire = [item for sublist in pros_satire for item in sublist]\n",
    "flat_not_satire = [item for sublist in pros_not_satire for item in sublist]"
   ]
  },
  {
   "cell_type": "code",
   "execution_count": 85,
   "metadata": {},
   "outputs": [],
   "source": [
    "satire_freq = FreqDist(flat_satire)\n",
    "not_satire_freq = FreqDist(flat_not_satire)"
   ]
  },
  {
   "cell_type": "code",
   "execution_count": 86,
   "metadata": {},
   "outputs": [],
   "source": [
    "# satire_freq.most_common(20)\n",
    "# not_satire_freq.most_common(20)"
   ]
  },
  {
   "cell_type": "markdown",
   "metadata": {},
   "source": [
    "#### Normalized word frequencies:"
   ]
  },
  {
   "cell_type": "code",
   "execution_count": 87,
   "metadata": {},
   "outputs": [
    {
     "name": "stdout",
     "output_type": "stream",
     "text": [
      "Word \t\t Normalized Frequency\n",
      "\n",
      "people \t\t 0.005193\n",
      "eu \t\t 0.005013\n",
      "would \t\t 0.004825\n",
      "may \t\t 0.004319\n",
      "like \t\t 0.004062\n",
      "even \t\t 0.003556\n",
      "time \t\t 0.003265\n",
      "many \t\t 0.003256\n",
      "get \t\t 0.002965\n",
      "also \t\t 0.002965\n",
      "brexit \t\t 0.002879\n",
      "britain \t\t 0.002674\n",
      "world \t\t 0.002579\n",
      "way \t\t 0.002477\n",
      "well \t\t 0.002477\n",
      "new \t\t 0.002408\n",
      "see \t\t 0.002314\n",
      "every \t\t 0.002245\n",
      "right \t\t 0.002194\n",
      "us \t\t 0.002151\n",
      "much \t\t 0.002074\n",
      "however \t\t 0.002048\n",
      "could \t\t 0.00204\n",
      "trump \t\t 0.002022\n",
      "theresa \t\t 0.001945\n"
     ]
    }
   ],
   "source": [
    "satire_total_word_count = sum(satire_freq.values())\n",
    "satire_top_25 = satire_freq.most_common(25)\n",
    "print(\"Word \\t\\t Normalized Frequency\")\n",
    "print()\n",
    "for word in satire_top_25:\n",
    "    normalized_frequency = word[1]/satire_total_word_count\n",
    "    print(\"{} \\t\\t {:.4}\".format(word[0], normalized_frequency))"
   ]
  },
  {
   "cell_type": "code",
   "execution_count": 88,
   "metadata": {},
   "outputs": [
    {
     "name": "stdout",
     "output_type": "stream",
     "text": [
      "Word \t\t Normalized Frequency\n",
      "\n",
      "u.s. \t\t 0.00615\n",
      "trump \t\t 0.005622\n",
      "government \t\t 0.005266\n",
      "would \t\t 0.004774\n",
      "president \t\t 0.004702\n",
      "people \t\t 0.003544\n",
      "state \t\t 0.003326\n",
      "year \t\t 0.003061\n",
      "told \t\t 0.003025\n",
      "new \t\t 0.002952\n",
      "security \t\t 0.002934\n",
      "also \t\t 0.002907\n",
      "last \t\t 0.002907\n",
      "two \t\t 0.002815\n",
      "united \t\t 0.002743\n",
      "reuters \t\t 0.002688\n",
      "could \t\t 0.002679\n",
      "china \t\t 0.002579\n",
      "country \t\t 0.002542\n",
      "percent \t\t 0.002497\n",
      "since \t\t 0.002342\n",
      "states \t\t 0.002269\n",
      "monday \t\t 0.002251\n",
      "house \t\t 0.002241\n",
      "police \t\t 0.002077\n"
     ]
    }
   ],
   "source": [
    "not_satire_total_word_count = sum(not_satire_freq.values())\n",
    "not_satire_top_25 = not_satire_freq.most_common(25)\n",
    "print(\"Word \\t\\t Normalized Frequency\")\n",
    "print()\n",
    "for word in not_satire_top_25:\n",
    "    normalized_frequency = word[1]/not_satire_total_word_count\n",
    "    print(\"{} \\t\\t {:.4}\".format(word[0], normalized_frequency))"
   ]
  },
  {
   "cell_type": "markdown",
   "metadata": {},
   "source": [
    "#### Let's visualize it:"
   ]
  },
  {
   "cell_type": "code",
   "execution_count": 89,
   "metadata": {},
   "outputs": [],
   "source": [
    "satire_bar_counts = [x[1] for x in satire_freq.most_common(20)]\n",
    "satire_bar_words = [x[0] for x in satire_freq.most_common(20)]\n",
    "\n",
    "not_satire_bar_counts = [x[1] for x in not_satire_freq.most_common(20)]\n",
    "not_satire_bar_words = [x[0] for x in not_satire_freq.most_common(20)]"
   ]
  },
  {
   "cell_type": "code",
   "execution_count": 90,
   "metadata": {},
   "outputs": [],
   "source": [
    "from matplotlib import cm\n",
    "color = cm.viridis_r(np.linspace(.4,.8, 30))"
   ]
  },
  {
   "cell_type": "code",
   "execution_count": 91,
   "metadata": {},
   "outputs": [
    {
     "data": {
      "image/png": "[encoded data removed]",
      "text/plain": [
       "<Figure size 1152x288 with 2 Axes>"
      ]
     },
     "metadata": {},
     "output_type": "display_data"
    }
   ],
   "source": [
    "new_figure = plt.figure(figsize=(16,4))\n",
    "\n",
    "ax = new_figure.add_subplot(121)\n",
    "ax2 = new_figure.add_subplot(122)\n",
    "\n",
    "# Generate a line plot on first axes\n",
    "ax.bar(satire_bar_words, satire_bar_counts, color=color)\n",
    "# ax.plot(colormap='PRGn')\n",
    "\n",
    "# Draw a scatter plot on 2nd axes\n",
    "ax2.bar(not_satire_bar_words, not_satire_bar_counts, color=color )\n",
    "\n",
    "ax.title.set_text('Satire')\n",
    "ax2.title.set_text('Not Satire')\n",
    "\n",
    "for ax in new_figure.axes:\n",
    "    plt.sca(ax)\n",
    "    plt.xticks(rotation=60)\n",
    "\n",
    "plt.tight_layout(pad=0)\n",
    "\n",
    "# plt.savefig('word count bar graphs.png')\n",
    "\n",
    "plt.show()"
   ]
  },
  {
   "cell_type": "code",
   "execution_count": 92,
   "metadata": {},
   "outputs": [],
   "source": [
    "# !pip install wordcloud"
   ]
  },
  {
   "cell_type": "code",
   "execution_count": 93,
   "metadata": {},
   "outputs": [],
   "source": [
    "# Getting our data into a dictionary\n",
    "# dictionary = dict(zip(keys, values))\n",
    "\n",
    "satire_dictionary = dict(zip(satire_bar_words, satire_bar_counts))\n",
    "not_satire_dictionary = dict(zip(not_satire_bar_words, not_satire_bar_counts))"
   ]
  },
  {
   "cell_type": "code",
   "execution_count": 94,
   "metadata": {},
   "outputs": [],
   "source": [
    "# satire_dictionary"
   ]
  },
  {
   "cell_type": "code",
   "execution_count": 95,
   "metadata": {},
   "outputs": [],
   "source": [
    "from wordcloud import WordCloud"
   ]
  },
  {
   "cell_type": "code",
   "execution_count": 96,
   "metadata": {},
   "outputs": [
    {
     "data": {
      "image/png": "[encoded data removed]",
      "text/plain": [
       "<Figure size 720x720 with 1 Axes>"
      ]
     },
     "metadata": {},
     "output_type": "display_data"
    }
   ],
   "source": [
    "wordcloud = WordCloud(colormap='Spectral').generate_from_frequencies(satire_dictionary)\n",
    "\n",
    "# Display the generated image:\n",
    "# the matplotlib way:\n",
    "# import matplotlib.pyplot as plt\n",
    "plt.figure(figsize=(10,10), facecolor='k')\n",
    "plt.imshow(wordcloud, interpolation='bilinear')\n",
    "plt.axis(\"off\")\n",
    "plt.tight_layout(pad=0)\n",
    "# plt.savefig('satire_wordcloud.png')\n",
    "\n",
    "plt.show()"
   ]
  },
  {
   "cell_type": "code",
   "execution_count": 97,
   "metadata": {},
   "outputs": [
    {
     "data": {
      "image/png": "[encoded data removed]",
      "text/plain": [
       "<Figure size 720x720 with 1 Axes>"
      ]
     },
     "metadata": {},
     "output_type": "display_data"
    }
   ],
   "source": [
    "wordcloud = WordCloud(colormap='Spectral').generate_from_frequencies(not_satire_dictionary)\n",
    "\n",
    "# Display the generated image:\n",
    "# the matplotlib way:\n",
    "# import matplotlib.pyplot as plt\n",
    "plt.figure(figsize=(10,10), facecolor='k')\n",
    "plt.imshow(wordcloud, interpolation='bilinear')\n",
    "plt.axis(\"off\")\n",
    "plt.tight_layout(pad=0)\n",
    "# plt.savefig('not_satire_wordcloud.png')\n",
    "# plt.savefig('wordcloud_test.png', facecolor='k', bbox_inches='tight')\n",
    "\n",
    "plt.show()"
   ]
  },
  {
   "cell_type": "markdown",
   "metadata": {},
   "source": [
    "## Bi-grams:"
   ]
  },
  {
   "cell_type": "markdown",
   "metadata": {},
   "source": [
    "#### Creating Bigrams:\n",
    "\n",
    "Knowing individual word frequencies is somewhat informative, but in practice, some of these tokens are actually parts of larger phrases that should be treated as a single unit. Let's create some bigrams, and see which combinations of words are most telling."
   ]
  },
  {
   "cell_type": "markdown",
   "metadata": {},
   "source": [
    "In the cells below:\n",
    "\n",
    "* We'll begin by aliasing a particularly long method name to make it easier to call. Store `nltk.collocations.BigramAssociationMeasures()` inside of the variable `bigram_measures`.\n",
    "* Next, we'll need to create a **_finder_**. Pass `flat_satire` into `BigramCollocationFinder.from_words()` and store the result returned inside of `satire_finder`.\n",
    "* Once we have a finder, we can use it to compute bigram scores, so we can see the combinations that occur most frequently. Call the `satire_finder` object's `score_ngrams()` method and pass in `bigram_measures.raw_freq` as the input. \n",
    "* Display first 50 elements in the `satire_scored` list to see the 50 most common bigrams in satire. \n",
    "* Do the same for `flat_not_satire`"
   ]
  },
  {
   "cell_type": "code",
   "execution_count": 98,
   "metadata": {
    "scrolled": true
   },
   "outputs": [],
   "source": [
    "satire_bigram_measures = nltk.collocations.BigramAssocMeasures()\n",
    "satire_finder = BigramCollocationFinder.from_words(flat_satire)\n",
    "satire_scored = satire_finder.score_ngrams(satire_bigram_measures.raw_freq)"
   ]
  },
  {
   "cell_type": "code",
   "execution_count": 99,
   "metadata": {
    "scrolled": true
   },
   "outputs": [
    {
     "data": {
      "text/plain": [
       "[(('theresa', 'may'), 0.0018681657697185753),\n",
       " (('prime', 'minister'), 0.0010112089946183115),\n",
       " (('right', 'hon'), 0.0005141740650601584),\n",
       " (('social', 'media'), 0.0005056044973091558),\n",
       " (('daily', 'squib'), 0.0004798957940561478),\n",
       " (('donald', 'trump'), 0.00044561752305213723),\n",
       " (('hon', 'friend'), 0.00041990881979912933),\n",
       " (('even', 'though'), 0.0004113392520481267),\n",
       " (('jeremy', 'corbyn'), 0.00038563054879511876),\n",
       " (('united', 'states'), 0.00035135227779110824)]"
      ]
     },
     "execution_count": 99,
     "metadata": {},
     "output_type": "execute_result"
    }
   ],
   "source": [
    "satire_scored[:10]"
   ]
  },
  {
   "cell_type": "code",
   "execution_count": 100,
   "metadata": {},
   "outputs": [],
   "source": [
    "not_satire_bigram_measures = nltk.collocations.BigramAssocMeasures()\n",
    "not_satire_finder = BigramCollocationFinder.from_words(flat_not_satire)\n",
    "not_satire_scored = not_satire_finder.score_ngrams(not_satire_bigram_measures.raw_freq)"
   ]
  },
  {
   "cell_type": "code",
   "execution_count": 101,
   "metadata": {
    "scrolled": true
   },
   "outputs": [
    {
     "data": {
      "text/plain": [
       "[(('united', 'states'), 0.0020227606126595656),\n",
       " (('donald', 'trump'), 0.0012391686636112655),\n",
       " (('president', 'donald'), 0.001193610992154969),\n",
       " (('white', 'house'), 0.00104782644349482),\n",
       " (('15', 'minutes'), 0.0010113803063297828),\n",
       " (('last', 'year'), 0.0010022687720385236),\n",
       " (('2019', 'reuters'), 0.0009931572377472643),\n",
       " (('complete', 'list'), 0.0009931572377472643),\n",
       " (('delayed', 'minimum'), 0.0009931572377472643),\n",
       " (('delays', '©'), 0.0009931572377472643)]"
      ]
     },
     "execution_count": 101,
     "metadata": {},
     "output_type": "execute_result"
    }
   ],
   "source": [
    "not_satire_scored[:10]"
   ]
  },
  {
   "cell_type": "code",
   "execution_count": null,
   "metadata": {},
   "outputs": [],
   "source": []
  },
  {
   "cell_type": "markdown",
   "metadata": {},
   "source": [
    "### mutual info scores"
   ]
  },
  {
   "cell_type": "markdown",
   "metadata": {},
   "source": [
    "These look a bit more interesting. We can see here that some of the most common ones are stage directions, such as 'Enter Macbeth' and 'Exeunt Scena', while others seem to be common phrases used in the play. \n",
    "\n",
    "To wrap up our initial examination of _Satire_, let's end by calculating **_Mutual Information Scores_**.\n",
    "\n",
    "#### Using Mutual Information Scores\n",
    "\n",
    "To calculate Mutual Information Scores, we'll need to first create a frequency filter, so that we only examine bigrams that occur more than a set number of times--for our purposes, we'll set this limit to 5. \n",
    "\n",
    "In NLTK, mutual information is often referred to as `pmi`, for **_Pointwise Mutual Information_**. Calculating PMI scores works much the same way that we created bigrams, with a few notable differences.\n",
    "\n",
    "In the cell below:\n",
    "\n",
    "* We'll start by creating another finder for pmi. Create another `BigramCollocationFinder.from_words` and pass in `flat_satire` as the input. Store this is the variable `satire_pmi_finder`.\n",
    "* Once we have our finder, we'll need to apply our frequency filter. Call `satire_pmi_finder`'s `apply_freq_filter` and pass in the number `5` as the input. \n",
    "* Now, we can use the finder to calculate pmi scores. Use the pmi finder's `.score_ngrams()` function, and pass in `bigram_measures.pmi` as the argument. Store this in `satire_pmi_scored`.\n",
    "* Examine the first 50 elements in `satire_pmi_scored`.\n",
    "* Do the same for `flat_not_satire`"
   ]
  },
  {
   "cell_type": "code",
   "execution_count": 102,
   "metadata": {},
   "outputs": [],
   "source": [
    "satire_pmi_finder = BigramCollocationFinder.from_words(flat_satire)\n",
    "satire_pmi_finder.apply_freq_filter(5)\n",
    "satire_pmi_scored = satire_pmi_finder.score_ngrams(satire_bigram_measures.pmi)"
   ]
  },
  {
   "cell_type": "code",
   "execution_count": 103,
   "metadata": {},
   "outputs": [
    {
     "data": {
      "text/plain": [
       "[(('skid', 'row'), 14.24738363196792),\n",
       " (('anna', 'soubry'), 14.024991210631473),\n",
       " (('priti', 'patel'), 14.024991210631473),\n",
       " (('hans', 'soylo'), 13.832346132689075),\n",
       " (('michel', 'barnier'), 13.832346132689075),\n",
       " (('gon', 'na'), 13.662421131246763),\n",
       " (('kim', 'jong-un'), 13.662421131246763),\n",
       " (('octopus', 'grip'), 13.510418037801717),\n",
       " (('48', 'hrs'), 13.510418037801713),\n",
       " (('los', 'angeles'), 13.37291451405178),\n",
       " (('knackers', 'yard'), 13.372914514051779),\n",
       " (('echo', 'chamber'), 13.24738363196792),\n",
       " (('margaret', 'thatcher'), 13.24738363196792),\n",
       " (('tiffany', 'haddish'), 13.24738363196792),\n",
       " (('winston', 'churchill'), 13.24738363196792)]"
      ]
     },
     "execution_count": 103,
     "metadata": {},
     "output_type": "execute_result"
    }
   ],
   "source": [
    "satire_pmi_scored[:15]"
   ]
  },
  {
   "cell_type": "code",
   "execution_count": 104,
   "metadata": {},
   "outputs": [],
   "source": [
    "not_satire_pmi_finder = BigramCollocationFinder.from_words(flat_not_satire)\n",
    "not_satire_pmi_finder.apply_freq_filter(5)\n",
    "not_satire_pmi_scored = not_satire_pmi_finder.score_ngrams(not_satire_bigram_measures.pmi)"
   ]
  },
  {
   "cell_type": "code",
   "execution_count": 105,
   "metadata": {
    "scrolled": true
   },
   "outputs": [
    {
     "data": {
      "text/plain": [
       "[(('gerauds', 'wilfried'), 14.42194646453531),\n",
       " (('nakhon', 'si'), 14.42194646453531),\n",
       " (('si', 'thammarat'), 14.42194646453531),\n",
       " (('srey', 'heng'), 14.42194646453531),\n",
       " (('anak', 'krakatau'), 14.158912058701514),\n",
       " (('mick', 'mulvaney'), 14.158912058701514),\n",
       " (('guy-bertrand', 'mapangou'), 13.936519637365066),\n",
       " (('sar-e', 'pul'), 13.936519637365066),\n",
       " (('zaw', 'htay'), 13.936519637365066),\n",
       " (('corneille', 'nangaa'), 13.743874559422672),\n",
       " (('santos', 'cruz'), 13.743874559422672),\n",
       " (('andres', 'manuel'), 13.743874559422668),\n",
       " (('bharatiya', 'janata'), 13.743874559422668),\n",
       " (('koh', 'samui'), 13.714127216028619),\n",
       " (('jia', 'kurd'), 13.57394955798036)]"
      ]
     },
     "execution_count": 105,
     "metadata": {},
     "output_type": "execute_result"
    }
   ],
   "source": [
    "not_satire_pmi_scored[:15]"
   ]
  },
  {
   "cell_type": "code",
   "execution_count": null,
   "metadata": {},
   "outputs": [],
   "source": []
  },
  {
   "cell_type": "code",
   "execution_count": null,
   "metadata": {},
   "outputs": [],
   "source": []
  },
  {
   "cell_type": "code",
   "execution_count": null,
   "metadata": {},
   "outputs": [],
   "source": []
  }
 ],
 "metadata": {
  "kernelspec": {
   "display_name": "Python 3",
   "language": "python",
   "name": "python3"
  },
  "language_info": {
   "codemirror_mode": {
    "name": "ipython",
    "version": 3
   },
   "file_extension": ".py",
   "mimetype": "text/x-python",
   "name": "python",
   "nbconvert_exporter": "python",
   "pygments_lexer": "ipython3",
   "version": "3.7.1"
  },
  "toc": {
   "base_numbering": 1,
   "nav_menu": {},
   "number_sections": true,
   "sideBar": true,
   "skip_h1_title": false,
   "title_cell": "Table of Contents",
   "title_sidebar": "Contents",
   "toc_cell": false,
   "toc_position": {},
   "toc_section_display": true,
   "toc_window_display": false
  }
 },
 "nbformat": 4,
 "nbformat_minor": 2
}
